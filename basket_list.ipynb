{
 "cells": [
  {
   "cell_type": "code",
   "execution_count": 1,
   "metadata": {},
   "outputs": [],
   "source": [
    "import json"
   ]
  },
  {
   "cell_type": "markdown",
   "metadata": {},
   "source": [
    "## Basket of items for each user saved as list"
   ]
  },
  {
   "cell_type": "code",
   "execution_count": 2,
   "metadata": {},
   "outputs": [],
   "source": [
    "nathan_basket = ['https://www.amazon.com/AOC-C24G1-Frameless-DisplayPort-Adjustable/dp/B07GD7H18F/ref=sr_1_1?dchild=1&keywords=B07GD7H18F&qid=1587428967&sr=8-1',\n",
    "                 'https://www.amazon.com/SkyTech-Shiva-Gaming-Computer-Desktop/dp/B07RPCG8ZW/ref=sr_1_1?dchild=1&keywords=B07RPCG8ZW&qid=1587429194&sr=8-1',\n",
    "                 'https://www.amazon.com/Optimum-Nutrition-Standard-Protein-Chocolate/dp/B000QSNYGI/ref=sr_1_1?dchild=1&keywords=B000QSNYGI&qid=1587429211&sr=8-1',\n",
    "                 'https://www.amazon.com/UPOWEX-Resistance-Whatafit-Exercise-Training/dp/B07DWSPQQY/ref=sr_1_1?dchild=1&keywords=B07DWSPQQY&qid=1587429227&sr=8-1',\n",
    "                 'https://www.amazon.com/TOPLUS-Friendly-Exercise-Strap-Workout-Exercises/dp/B0776T7372/ref=sr_1_1?dchild=1&keywords=B0776T7372&qid=1587429251&sr=8-1',\n",
    "                 'https://www.amazon.com/Powerbeats-Pro-Totally-Wireless-Earphones/dp/B07R5QD598/ref=sr_1_1?dchild=1&keywords=B07R5QD598&qid=1587429266&sr=8-1',\n",
    "                 'https://www.amazon.com/Sony-X800H-Inch-Compatibility-XBR65X800H/dp/B083R2QTL6/ref=sr_1_1?dchild=1&keywords=B083R2QTL6&qid=1587429282&sr=8-1',\n",
    "                 'https://www.amazon.com/Bose-Soundbar-System-Universal-Control/dp/B01AWLPUAG/ref=sr_1_1?dchild=1&keywords=B01AWLPUAG&qid=1587429297&sr=8-1']"
   ]
  },
  {
   "cell_type": "code",
   "execution_count": 3,
   "metadata": {},
   "outputs": [],
   "source": [
    "anu_basket = ['https://www.amazon.com/LEGO-Hogwarts-Playset-Minifigures-Hermione/dp/B07QQ39RY3/ref=sr_1_2?dchild=1&keywords=harry+potter+lego&qid=1587146263&sr=8-2',\n",
    "                'https://www.amazon.com/L-L-Surprise-Independent-Multicolor/dp/B07XSNGSJN/ref=sr_1_1?crid=WYHRHSLT106F&dchild=1&keywords=miss+independent+lol+doll&qid=1587146333&sprefix=lol+doll+miss+in%2Caps%2C144&sr=8-1',\n",
    "                'https://www.amazon.com/Contigo-AUTOSEAL-Vaccuum-Insulated-Stainless-Travel/dp/B073WB5DG9/ref=sr_1_1?dchild=1&keywords=B073WB5DG9&qid=1587431399&sr=8-1',\n",
    "                'https://www.amazon.com/Apple-AirPods-Charging-Latest-Model/dp/B07PXGQC1Q/ref=sr_1_1_sspa?dchild=1&keywords=airpods&qid=1587145709&sr=8-1-spons&psc=1&spLa=ZW5jcnlwdGVkUXVhbGlmaWVyPUFKNVk3TE05VjBFNEkmZW5jcnlwdGVkSWQ9QTAyNTY0NjUxOU9KM1c2QkJBVUwzJmVuY3J5cHRlZEFkSWQ9QTEwMDQ4NzBEQkJVSkxXUVYyT0wmd2lkZ2V0TmFtZT1zcF9hdGYmYWN0aW9uPWNsaWNrUmVkaXJlY3QmZG9Ob3RMb2dDbGljaz10cnVl',\n",
    "                'https://www.amazon.com/Apple-iPad-12-9-inch-Wi-Fi-256GB/dp/B0862HNWGK/ref=sr_1_1?dchild=1&keywords=B0862HNWGK&qid=1587428819&sr=8-1'\n",
    "         ]"
   ]
  },
  {
   "cell_type": "code",
   "execution_count": 4,
   "metadata": {},
   "outputs": [],
   "source": [
    "paula_basket = ['https://www.amazon.com/Bose-SoundLink-Portable-Long-Lasting-Bluetooth/dp/B06XCW4VFS/ref=sr_1_1?dchild=1&keywords=017817726016&qid=1587403350&sr=8-1',\n",
    "                'https://www.amazon.com/Bose-Cancelling-Wireless-Bluetooth-Headphones/dp/B07Q9MJKBV/ref=sr_1_1?dchild=1&keywords=017817796163&qid=1587169795&sr=8-1',\n",
    "                'https://www.amazon.com/KitchenAid-KSM75SL-Classic-4-5-Qt-Tilt-Head/dp/B00BU27HYO/ref=sr_1_1?dchild=1&keywords=883049275215&qid=1587403832&sr=8-1',\n",
    "                'https://www.amazon.com/Keurig-K-Elite-Temperature-Capability-Programmable/dp/B078NN17K3/ref=sr_1_1?dchild=1&keywords=611247369425&qid=1587404207&sr=8-1',\n",
    "                'https://www.amazon.com/Hamilton-Beach-Centrifugal-2-Speeds-67850/dp/B01GVGX84Q/ref=sr_1_1?dchild=1&keywords=040094678501&qid=1587404406&sr=8-1',\n",
    "                'https://www.amazon.com/Anova-Culinary-AN500-US00-Precision-Included/dp/B07WQ4M5TS/ref=sr_1_1?dchild=1&keywords=851607006601&qid=1587170900&sr=8-1',\n",
    "                'https://www.amazon.com/Instant-Pot-Smart-Electric-Pressure/dp/B0777XQ4S8/ref=sr_1_1?dchild=1&keywords=859716007182&qid=1587404628&sr=8-1',\n",
    "                'https://www.amazon.com/Fitbit-Inspire-Fitness-Tracker-included/dp/B07MSYTQNM/ref=sr_1_1?dchild=1&keywords=811138033262&qid=1587171414&sr=8-1',\n",
    "                'https://www.amazon.com/Vitamix-E310-Explorian-Professional-Grade-Container/dp/B0758JHZM3/ref=sr_1_1?dchild=1&keywords=703113640681&qid=1587405086&sr=8-1'\n",
    "               ]"
   ]
  },
  {
   "cell_type": "code",
   "execution_count": 5,
   "metadata": {},
   "outputs": [],
   "source": [
    "khasi_basket = [\n",
    "    'https://www.amazon.com/Instant-Vortex-Plus-Rotisserie-10/dp/B07VM28XTR/',\n",
    "    'https://www.amazon.com/Babolat-Boost-Strike-Tennis-Racquet/dp/B072F2H4D2/',\n",
    "    'https://www.amazon.com/XQXA-Cleaners-New-Baseball-Protector-Machine%EF%BC%8CBlack/dp/B07QXXPPX4/',\n",
    "    'https://www.amazon.com/Nintendo-Switch-Neon-Blue-Joy%E2%80%91/dp/B07VGRJDFY/',\n",
    "    'https://www.amazon.com/Nite-Ize-Flashflight-Light-Flying/dp/B0001WP232/'\n",
    "]"
   ]
  },
  {
   "cell_type": "code",
   "execution_count": 6,
   "metadata": {},
   "outputs": [],
   "source": [
    "tiko_basket = ['https://www.amazon.com/Bose-QuietComfort-Bluetooth-Headphones-Noise-Cancelling/dp/B07NXDPLJ9/ref=lp_509318_1_9?s=aht&ie=UTF8&qid=1587059636&sr=1-9',\n",
    "        'https://www.amazon.com/KitchenAid-KSM75SL-Classic-4-5-Qt-Tilt-Head/dp/B00BU27HYO/ref=sr_1_1?dchild=1&keywords=883049275215&qid=1587398970&sr=8-1',\n",
    "        'https://www.amazon.com/Revlon-One-Step-Dryer-Volumizer-Brush/dp/B01LSUQSB0/ref=sr_1_39?crid=31U6B72ZZNX82&dchild=1&keywords=hair+straightener&qid=1587399099&sprefix=hair+strag%2Caps%2C168&sr=8-39',\n",
    "        'https://www.amazon.com/GoPro-HERO7-Silver-Waterproof-Digital/dp/B07GDGZCCJ/ref=sr_1_11?dchild=1&keywords=818279023213&qid=1587399244&sr=8-11',\n",
    "        'https://www.amazon.com/Nikon-DX-Format-Digital-18-55mm-3-5-5-6G/dp/B01N4KCC2M/ref=sr_1_1?dchild=1&keywords=018208015764&qid=1587399360&sr=8-1',\n",
    "        'https://www.amazon.com/Fjallraven-Classic-Backpack-Everyday-Graphite/dp/B003NF25K2/ref=sr_1_21?dchild=1&keywords=backpack&qid=1587058843&s=apparel&sr=1-21',\n",
    "        'https://www.amazon.com/Philips-328E9QJAB-Frameless-FreeSync-DisplayPort/dp/B07KQXJLF7/ref=sxin_3_ac_d_pm?ac_md=5-2-QWJvdmUgJDE1MA%3D%3D-ac_d_pm&cv_ct_cx=computer+monitor&dchild=1&keywords=computer+monitor&pd_rd_i=B07KQXJLF7&pd_rd_r=d344a2d7-a4d6-49f2-be6f-458ce3284109&pd_rd_w=R0Ywb&pd_rd_wg=46Pcg&pf_rd_p=d268c452-dec7-459f-93b2-f5478382989a&pf_rd_r=0Q9VBB1Z9SY6HYGY8TQ1&psc=1&qid=1587058964&s=home-garden&sr=1-3-22d05c05-1231-4126-b7c4-3e7a9c0027d0',\n",
    "        'https://www.amazon.com/Chefman-Liter-Electric-Glass-Kettle/dp/B07KYYF9HD/ref=sr_1_1?dchild=1&keywords=816458023023&qid=1586630945&sr=8-1', \n",
    "        'https://www.amazon.com/Instant-Vortex-One-Touch-Programs-Reheat/dp/B07VM1FT8W/ref=sr_1_1?dchild=1&keywords=857561008637&qid=1586627447&s=home-garden&sr=1-1', \n",
    "        'https://www.amazon.com/CeraVe-Foaming-Facial-Cleanser-Washing/dp/B01N1LL62W/ref=sr_1_5?dchild=1&keywords=cerave&qid=1586628117&s=home-garden&sr=8-5']"
   ]
  },
  {
   "cell_type": "code",
   "execution_count": 7,
   "metadata": {},
   "outputs": [],
   "source": [
    "will_basket1 = ['https://www.amazon.com/Lodge-Skillet-Pre-Seasoned-Skillet-Silicone/dp/B00G2XGC88/ref=sxbs_sxwds-stvp?cv_ct_cx=075536301006&dchild=1&keywords=075536301006&pd_rd_i=B00G2XGC88&pd_rd_r=70341346-4dc8-4a5e-9f66-dbb5778921ce&pd_rd_w=haIr5&pd_rd_wg=luESg&pf_rd_p=183579a1-f0e6-4556-8e39-8fe08e8f8141&pf_rd_r=MVY3PBAWSQ37BDCYDZY5&psc=1&qid=1587220852&sr=1-1-dd5817a1-1ba7-46c2-8996-f96e7b0f409c',\n",
    "        'https://www.amazon.com/KitchenAid-KHB1231IC-2-Speed-Hand-Blender/dp/B00LXHU61W/ref=sr_1_1?dchild=1&keywords=883049336367&qid=1587220902&s=home-garden&sr=1-1',\n",
    "        'https://www.amazon.com/Lodge-Quart-Dutch-Pre-Seasoned-Handle/dp/B00063RWYI/ref=sr_1_1?dchild=1&keywords=075536361505&qid=1587220950&s=home-garden&sr=1-1',\n",
    "        'https://www.amazon.com/J-Henckels-International-Forged-16901-201/dp/B001S41SH6/ref=sr_1_1?dchild=1&keywords=035886257644&qid=1587221023&s=home-garden&sr=1-1',\n",
    "        'https://www.amazon.com/George-Foreman-Adjustable-Temperature-GR2121P/dp/B00C1TA3JG/ref=sr_1_2_sspa?dchild=1&keywords=027043993854&qid=1587221189&sr=8-2-spons&psc=1&spLa=ZW5jcnlwdGVkUXVhbGlmaWVyPUEyNFJTTjk1NFpBTEpPJmVuY3J5cHRlZElkPUEwNDMzMDA5MzFEVzhVN0tZSDVESiZlbmNyeXB0ZWRBZElkPUEwNTYzNjM3MU9RRjlGSlU0QUVCNyZ3aWRnZXROYW1lPXNwX210ZiZhY3Rpb249Y2xpY2tSZWRpcmVjdCZkb05vdExvZ0NsaWNrPXRydWU=',\n",
    "        'https://www.amazon.com/Cuisinart-SS-15-Coffee-Coffeemaker-Single-Serve/dp/B01KIG4YNO/ref=sr_1_1?dchild=1&keywords=086279090645&qid=1587221345&sr=8-1',\n",
    "        'https://www.amazon.com/Cuisinart-GR-4N-Griddler-Silver-Black/dp/B002YD99Y4/ref=sr_1_6?dchild=1&keywords=086279007759&qid=1587221381&sr=8-6',\n",
    "        'https://www.amazon.com/Cuisinart-FP-8GM-Elemental-Processor-Gunmetal/dp/B00MVWGFP4/ref=sr_1_1?dchild=1&keywords=086279080370&qid=1587221450&sr=8-1',\n",
    "        'https://www.amazon.com/Weber-44010001-Spirit-2-Burner-Propane/dp/B077K1MK8N/ref=sr_1_1?dchild=1&keywords=077924058516&qid=1587221524&sr=8-1',\n",
    "        'https://www.amazon.com/Weber-Original-Kettle-Charcoal-Grill/dp/B00004RALW/ref=sr_1_1?dchild=1&keywords=077924025297&qid=1587221556&sr=8-1']\n",
    "\n",
    "will_basket2 = [\n",
    "          'https://www.amazon.com/Dark-Souls-Remastered-PlayStation-4/dp/B078Y4FR14/ref=sr_1_1?dchild=1&keywords=dark+souls+remastered&qid=1587182763&sr=8-1',\n",
    "          'https://www.amazon.com/Dark-Souls-Remastered-Xbox-One/dp/B078Y4DLC1/ref=sr_1_1?dchild=1&keywords=dark+souls+remastered+xbox+1&qid=1586987434&sr=8-1',\n",
    "          'https://www.amazon.com/Bloodborne-Hits-PlayStation-4/dp/B07DNLYMV4/ref=sr_1_6?dchild=1&keywords=bloodborne&qid=1587044407&sr=8-6',\n",
    "    'https://www.amazon.com/Red-Dead-Redemption-PS4-playstation-4/dp/B0776YMQN1/ref=sr_1_3?dchild=1&keywords=2+red+dead+redemption&qid=1587182901&sr=8-3',\n",
    "    'https://www.amazon.com/Red-Dead-Redemption-2-Xbox-One/dp/B01MAYC1CJ/ref=sr_1_4?dchild=1&keywords=2+red+dead+redemption&qid=1587182901&sr=8-4',\n",
    "    'https://www.amazon.com/Sekiro-Shadows-Die-Twice-PlayStation-4/dp/B07DJWBYJN/ref=sr_1_1?dchild=1&keywords=sekiro&qid=1587183027&sr=8-1',\n",
    "        'https://www.amazon.com/Sekiro-Shadows-Die-Twice-Xbox-One/dp/B07DNQD2GQ/ref=sr_1_2?dchild=1&keywords=sekiro&qid=1587217583&sr=8-2',\n",
    "    'https://www.amazon.com/Halo-5-Xbox-One/dp/B00D781W3Q/ref=sr_1_1?dchild=1&keywords=halo+5&qid=1587217844&sr=8-1',\n",
    "    'https://www.amazon.com/God-War-Hits-PlayStation-4/dp/B07XQKTPB2/ref=sr_1_1?crid=31MMOB765K721&dchild=1&keywords=god+of+war+ps4&qid=1587217879&sprefix=god+of+war%2Caps%2C152&sr=8-1',\n",
    "    'https://www.amazon.com/Uncharted-4-Thiefs-End-PS4-playstation/dp/B07GLGSHWN/ref=sr_1_6?dchild=1&keywords=uncharted+4&qid=1587217909&sr=8-6'\n",
    "]"
   ]
  },
  {
   "cell_type": "code",
   "execution_count": 8,
   "metadata": {},
   "outputs": [],
   "source": [
    "basket_list = nathan_basket+anu_basket+paula_basket+khasi_basket+tiko_basket+will_basket1+will_basket2"
   ]
  },
  {
   "cell_type": "code",
   "execution_count": 9,
   "metadata": {},
   "outputs": [
    {
     "data": {
      "text/plain": [
       "57"
      ]
     },
     "execution_count": 9,
     "metadata": {},
     "output_type": "execute_result"
    }
   ],
   "source": [
    "len(basket_list)"
   ]
  },
  {
   "cell_type": "code",
   "execution_count": 10,
   "metadata": {},
   "outputs": [],
   "source": [
    "with open('basket_list.json', 'w') as fp:\n",
    "    json.dump(basket_list, fp)"
   ]
  },
  {
   "cell_type": "markdown",
   "metadata": {},
   "source": [
    "## Baskets as ASIN-UPC dictionary"
   ]
  },
  {
   "cell_type": "code",
   "execution_count": 11,
   "metadata": {},
   "outputs": [],
   "source": [
    "nathan_dict = {'B07GD7H18F': '685417719785',\n",
    " 'B07RPCG8ZW': '811698030947',\n",
    " 'B000QSNYGI': '821079279438',\n",
    " 'B07DWSPQQY': '659676018095',\n",
    " 'B0776T7372': '732025688092',\n",
    " 'B07R5QD598': '190199096950',\n",
    " 'B083R2QTL6': '027242919839',\n",
    " 'B01AWLPUAG': '017817700221'}"
   ]
  },
  {
   "cell_type": "code",
   "execution_count": 12,
   "metadata": {},
   "outputs": [],
   "source": [
    "with open('user1.json', 'w') as fp:\n",
    "    json.dump(nathan_dict, fp)"
   ]
  },
  {
   "cell_type": "code",
   "execution_count": 13,
   "metadata": {},
   "outputs": [],
   "source": [
    "anu_dict = {'B07QQ39RY3': '673419316903',\n",
    " 'B07XSNGSJN': '035051565130',\n",
    " 'B073WB5DG9': 'WLD100J01',\n",
    " 'B07PXGQC1Q': '190199098428',\n",
    " 'B0862HNWGK': '190199416826'}"
   ]
  },
  {
   "cell_type": "code",
   "execution_count": 14,
   "metadata": {},
   "outputs": [],
   "source": [
    "with open('user2.json', 'w') as fp:\n",
    "    json.dump(anu_dict, fp)"
   ]
  },
  {
   "cell_type": "code",
   "execution_count": 15,
   "metadata": {},
   "outputs": [],
   "source": [
    "paula_dict = {'B06XCW4VFS': '017817726016',\n",
    " 'B07Q9MJKBV': '017817796163',\n",
    " 'B00BU27HYO': '883049275215',\n",
    " 'B078NN17K3': '611247378397',\n",
    " 'B01GVGX84Q': '040094678501',\n",
    " 'B07WQ4M5TS': '851607006601',\n",
    " 'B0777XQ4S8': '859716007182',\n",
    " 'B07MSYTQNM': '811138033262',\n",
    " 'B0758JHZM3': '703113640681'}"
   ]
  },
  {
   "cell_type": "code",
   "execution_count": 16,
   "metadata": {},
   "outputs": [],
   "source": [
    "with open('user3.json', 'w') as fp:\n",
    "    json.dump(paula_dict, fp)"
   ]
  },
  {
   "cell_type": "code",
   "execution_count": 17,
   "metadata": {},
   "outputs": [],
   "source": [
    "khasi_dict = {'B07VM28XTR': '857561008644',\n",
    " 'B072F2H4D2': '651536247430',\n",
    " 'B07QXXPPX4': '682365027030',\n",
    " 'B07VGRJDFY': '045496882174',\n",
    " 'B0001WP232': '000194532806'}"
   ]
  },
  {
   "cell_type": "code",
   "execution_count": 18,
   "metadata": {},
   "outputs": [],
   "source": [
    "with open('user4.json', 'w') as fp:\n",
    "    json.dump(khasi_dict, fp)"
   ]
  },
  {
   "cell_type": "code",
   "execution_count": 19,
   "metadata": {},
   "outputs": [],
   "source": [
    "tiko_dict =  {'B07NXDPLJ9': '017817806411',\n",
    " 'B00BU27HYO': '883049275215',\n",
    " 'B01LSUQSB0': '761318252221',\n",
    " 'B07GDGZCCJ': '818279023213',\n",
    " 'B01N4KCC2M': '018208015764',\n",
    " 'B003NF25K2': '795410270067',\n",
    " 'B07KQXJLF7': '609585252554',\n",
    " 'B07KYYF9HD': '816458023023',\n",
    " 'B07VM1FT8W': '857561008637',\n",
    " 'B01N1LL62W': '301871368160'}"
   ]
  },
  {
   "cell_type": "code",
   "execution_count": 20,
   "metadata": {},
   "outputs": [],
   "source": [
    "with open('user5.json', 'w') as fp:\n",
    "    json.dump(tiko_dict, fp)"
   ]
  },
  {
   "cell_type": "code",
   "execution_count": 21,
   "metadata": {},
   "outputs": [],
   "source": [
    "will_dict1 = {\"B00G2XGC88\": \"885456461168\", \n",
    "              \"B00LXHU61W\": \"883049336367\", \n",
    "              \"B00063RWYI\": \"075536351292\", \n",
    "              \"B001S41SH6\": \"035886257644\", \n",
    "              \"B00C1TA3JG\": \"224612531473\", \n",
    "              \"B01KIG4YNO\": \"086279090645\", \n",
    "              \"B002YD99Y4\": \"697046436292\", \n",
    "              \"B00MVWGFP4\": \"726325705160\", \n",
    "              \"B077K1MK8N\": \"077924058516\", \n",
    "              \"B00004RALW\": \"077924025297\"}"
   ]
  },
  {
   "cell_type": "code",
   "execution_count": 22,
   "metadata": {},
   "outputs": [],
   "source": [
    "with open('user6.json', 'w') as fp:\n",
    "    json.dump(will_dict1, fp)"
   ]
  },
  {
   "cell_type": "code",
   "execution_count": 23,
   "metadata": {},
   "outputs": [],
   "source": [
    "will_dict2 = {\"B078Y4FR14\": \"722674121392\", \n",
    "              \"B078Y4DLC1\": \"722674220903\", \n",
    "              \"B07DNLYMV4\": \"711719523154\", \n",
    "              \"B0776YMQN1\": \"5026555423052\", \n",
    "              \"B01MAYC1CJ\": \"5026555358972\", \n",
    "              \"B07DJWBYJN\": \"047875882928\", \n",
    "              \"B07DNQD2GQ\": \"5030917250279\", \n",
    "              \"B00D781W3Q\": \"885370929522\", \n",
    "              \"B07XQKTPB2\": \"711719534105\", \n",
    "              \"B07GLGSHWN\": \"711719418474\"}"
   ]
  },
  {
   "cell_type": "code",
   "execution_count": 24,
   "metadata": {},
   "outputs": [],
   "source": [
    "with open('user7.json', 'w') as fp:\n",
    "    json.dump(will_dict2, fp)"
   ]
  },
  {
   "cell_type": "code",
   "execution_count": 25,
   "metadata": {},
   "outputs": [],
   "source": [
    "basket_informed = {}\n",
    "basket_informed.update(nathan_dict)\n",
    "basket_informed.update(anu_dict)\n",
    "basket_informed.update(paula_dict)\n",
    "basket_informed.update(khasi_dict)\n",
    "basket_informed.update(tiko_dict)\n",
    "basket_informed.update(will_dict1)\n",
    "basket_informed.update(will_dict2)"
   ]
  },
  {
   "cell_type": "code",
   "execution_count": 26,
   "metadata": {
    "scrolled": false
   },
   "outputs": [
    {
     "data": {
      "text/plain": [
       "56"
      ]
     },
     "execution_count": 26,
     "metadata": {},
     "output_type": "execute_result"
    }
   ],
   "source": [
    "len(basket_informed)"
   ]
  },
  {
   "cell_type": "code",
   "execution_count": 27,
   "metadata": {},
   "outputs": [],
   "source": [
    "with open('allusers.json', 'w') as fp:\n",
    "    json.dump(basket_informed, fp)"
   ]
  },
  {
   "cell_type": "code",
   "execution_count": null,
   "metadata": {},
   "outputs": [],
   "source": []
  }
 ],
 "metadata": {
  "kernelspec": {
   "display_name": "Python 3",
   "language": "python",
   "name": "python3"
  },
  "language_info": {
   "codemirror_mode": {
    "name": "ipython",
    "version": 3
   },
   "file_extension": ".py",
   "mimetype": "text/x-python",
   "name": "python",
   "nbconvert_exporter": "python",
   "pygments_lexer": "ipython3",
   "version": "3.7.4"
  }
 },
 "nbformat": 4,
 "nbformat_minor": 4
}
