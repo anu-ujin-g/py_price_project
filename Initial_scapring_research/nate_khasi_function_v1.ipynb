{
 "cells": [
  {
   "cell_type": "code",
   "execution_count": 26,
   "metadata": {},
   "outputs": [],
   "source": [
    "import selenium\n",
    "\n",
    "from selenium import webdriver\n",
    "from selenium.webdriver.common.keys import Keys"
   ]
  },
  {
   "cell_type": "code",
   "execution_count": 27,
   "metadata": {},
   "outputs": [],
   "source": [
    "driver = webdriver.Chrome(executable_path='C:\\Program Files\\Chrome\\chromedriver.exe')"
   ]
  },
  {
   "cell_type": "code",
   "execution_count": 28,
   "metadata": {},
   "outputs": [],
   "source": [
    "driver.get('https://www.amazon.com/s?k=air+fryer&ref=nb_sb_noss_2')"
   ]
  },
  {
   "cell_type": "code",
   "execution_count": 50,
   "metadata": {},
   "outputs": [],
   "source": [
    "item = driver.find_elements_by_css_selector('div[data-index=\"0\"]')"
   ]
  },
  {
   "cell_type": "code",
   "execution_count": 81,
   "metadata": {},
   "outputs": [],
   "source": [
    "name = driver.find_elements_by_css_selector('div[data-asin]')"
   ]
  },
  {
   "cell_type": "code",
   "execution_count": 96,
   "metadata": {},
   "outputs": [
    {
     "data": {
      "text/plain": [
       "'B07FDJMC9Q'"
      ]
     },
     "execution_count": 96,
     "metadata": {},
     "output_type": "execute_result"
    }
   ],
   "source": [
    "name[0].get_attribute('data-asin')"
   ]
  },
  {
   "cell_type": "code",
   "execution_count": 82,
   "metadata": {},
   "outputs": [
    {
     "ename": "SyntaxError",
     "evalue": "invalid syntax (<ipython-input-82-106206c63b76>, line 1)",
     "output_type": "error",
     "traceback": [
      "\u001b[1;36m  File \u001b[1;32m\"<ipython-input-82-106206c63b76>\"\u001b[1;36m, line \u001b[1;32m1\u001b[0m\n\u001b[1;33m    test_0, test_1 = test_list[0], test_list[1name]\u001b[0m\n\u001b[1;37m                                                 ^\u001b[0m\n\u001b[1;31mSyntaxError\u001b[0m\u001b[1;31m:\u001b[0m invalid syntax\n"
     ]
    }
   ],
   "source": [
    "test_0, test_1 = test_list[0], test_list[1]"
   ]
  },
  {
   "cell_type": "code",
   "execution_count": 55,
   "metadata": {},
   "outputs": [
    {
     "data": {
      "text/plain": [
       "'65.99'"
      ]
     },
     "execution_count": 55,
     "metadata": {},
     "output_type": "execute_result"
    }
   ],
   "source": [
    "item[0].find_element_by_class_name('a-price').text.replace('$',\"\").replace('\\n', '.')"
   ]
  },
  {
   "cell_type": "code",
   "execution_count": 97,
   "metadata": {},
   "outputs": [
    {
     "data": {
      "text/plain": [
       "'B07FF117K7'"
      ]
     },
     "execution_count": 97,
     "metadata": {},
     "output_type": "execute_result"
    }
   ],
   "source": [
    "item[0].get_attribute('data-asin')"
   ]
  },
  {
   "cell_type": "code",
   "execution_count": 35,
   "metadata": {},
   "outputs": [],
   "source": [
    "works_0 = test_0.find_elements_by_tag_name('div')"
   ]
  },
  {
   "cell_type": "code",
   "execution_count": 36,
   "metadata": {},
   "outputs": [],
   "source": [
    "works_1 = test_1.find_elements_by_tag_name('div')"
   ]
  },
  {
   "cell_type": "code",
   "execution_count": 37,
   "metadata": {},
   "outputs": [
    {
     "data": {
      "text/plain": [
       "42"
      ]
     },
     "execution_count": 37,
     "metadata": {},
     "output_type": "execute_result"
    }
   ],
   "source": [
    "works_0"
   ]
  },
  {
   "cell_type": "code",
   "execution_count": 38,
   "metadata": {},
   "outputs": [
    {
     "data": {
      "text/plain": [
       "7"
      ]
     },
     "execution_count": 38,
     "metadata": {},
     "output_type": "execute_result"
    }
   ],
   "source": [
    "len(works_1)"
   ]
  },
  {
   "cell_type": "code",
   "execution_count": 23,
   "metadata": {},
   "outputs": [
    {
     "data": {
      "text/plain": [
       "''"
      ]
     },
     "execution_count": 23,
     "metadata": {},
     "output_type": "execute_result"
    }
   ],
   "source": [
    "works.find_element_by_class_name('a-link-normal').text"
   ]
  },
  {
   "cell_type": "code",
   "execution_count": 109,
   "metadata": {},
   "outputs": [],
   "source": [
    "import selenium\n",
    "\n",
    "from selenium import webdriver\n",
    "from selenium.webdriver.common.keys import Keys\n",
    "from itertools import count\n",
    "\n",
    "def find_top_n(search_term: str, n: int, low_price: float, high_price: float) -> dict:\n",
    "    '''\n",
    "    This function takes as input a search string, a number of items and a low and high value for that product.\n",
    "    Note: input search term as a space seperated string only. \n",
    "    It returns the n items that match the price criteria for the item. \n",
    "    '''\n",
    "    driver = webdriver.Chrome(executable_path='C:\\Program Files\\Chrome\\chromedriver.exe')\n",
    "    updated_search = search_term.replace(' ', '+')\n",
    "    search = driver.get('https://www.amazon.com/s?k=' + updated_search +'&ref=nb_sb_noss_2')\n",
    "    # run through items on first page\n",
    "    final_items = {}\n",
    "    for i in count(0):\n",
    "        item = driver.find_elements_by_css_selector('div[data-index=\"{}\"]'.format(i))\n",
    "        if len(item) == 0:\n",
    "            # go to next page and start iterator over?\n",
    "            break\n",
    "        price = item[0].find_element_by_class_name('a-price').text\n",
    "        final_price = float(price.replace('$',\"\").replace('\\n', '.'))\n",
    "        if final_price > low_price:\n",
    "            if final_price < high_price:\n",
    "                asin = item[0].get_attribute('data-asin')\n",
    "                final_items[asin] = 'www.amazon.com/dp/' + asin\n",
    "        if len(final_items) == n:\n",
    "            break\n",
    "    return(final_items)\n",
    "    \n",
    "    \n",
    "    \n",
    "    \n",
    "    "
   ]
  },
  {
   "cell_type": "code",
   "execution_count": 110,
   "metadata": {},
   "outputs": [
    {
     "data": {
      "text/plain": [
       "{'B07CZZ59CQ': 'www.amazon.com/dp/B07CZZ59CQ',\n",
       " 'B0847584ZV': 'www.amazon.com/dp/B0847584ZV',\n",
       " 'B0777RJG6D': 'www.amazon.com/dp/B0777RJG6D',\n",
       " 'B07FDJMC9Q': 'www.amazon.com/dp/B07FDJMC9Q',\n",
       " 'B07FF117K7': 'www.amazon.com/dp/B07FF117K7',\n",
       " 'B07VF7J5VQ': 'www.amazon.com/dp/B07VF7J5VQ',\n",
       " 'B084S2RP4B': 'www.amazon.com/dp/B084S2RP4B',\n",
       " 'B07KWFC5Y7': 'www.amazon.com/dp/B07KWFC5Y7',\n",
       " 'B07ZWG619F': 'www.amazon.com/dp/B07ZWG619F',\n",
       " 'B07JBLY2D2': 'www.amazon.com/dp/B07JBLY2D2'}"
      ]
     },
     "execution_count": 110,
     "metadata": {},
     "output_type": "execute_result"
    }
   ],
   "source": [
    "find_top_n('air fryer', 10, 40, 100)"
   ]
  },
  {
   "cell_type": "code",
   "execution_count": null,
   "metadata": {},
   "outputs": [],
   "source": []
  }
 ],
 "metadata": {
  "kernelspec": {
   "display_name": "Python 3",
   "language": "python",
   "name": "python3"
  },
  "language_info": {
   "codemirror_mode": {
    "name": "ipython",
    "version": 3
   },
   "file_extension": ".py",
   "mimetype": "text/x-python",
   "name": "python",
   "nbconvert_exporter": "python",
   "pygments_lexer": "ipython3",
   "version": "3.7.4"
  }
 },
 "nbformat": 4,
 "nbformat_minor": 2
}
