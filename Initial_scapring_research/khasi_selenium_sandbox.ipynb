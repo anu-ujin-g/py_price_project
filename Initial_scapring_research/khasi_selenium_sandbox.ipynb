{
 "cells": [
  {
   "cell_type": "markdown",
   "metadata": {},
   "source": [
    "### Selenium sandbox"
   ]
  },
  {
   "cell_type": "code",
   "execution_count": 13,
   "metadata": {},
   "outputs": [],
   "source": [
    "# Allows you to launch/initialize a browser\n",
    "from selenium import webdriver \n",
    "\n",
    "# Allows you to search for things using specific parameters.\n",
    "from selenium.webdriver.common.by import By \n",
    "\n",
    "#Allows you to wait for a page to load.\n",
    "from selenium.webdriver.support.ui import WebDriverWait \n",
    "\n",
    "# Allows you to wait for a page to load.\n",
    "from selenium.webdriver.support import expected_conditions as EC \n",
    "\n",
    "#Handling a timeout situation.\n",
    "from selenium.common.exceptions import TimeoutException\n",
    "\n",
    "import requests"
   ]
  },
  {
   "cell_type": "code",
   "execution_count": 10,
   "metadata": {},
   "outputs": [],
   "source": [
    "option = webdriver.ChromeOptions()\n",
    "option.add_argument(\"— incognito\")"
   ]
  },
  {
   "cell_type": "code",
   "execution_count": null,
   "metadata": {},
   "outputs": [],
   "source": [
    "# open the browser"
   ]
  },
  {
   "cell_type": "code",
   "execution_count": 11,
   "metadata": {},
   "outputs": [],
   "source": [
    "browser = webdriver.Chrome(executable_path='/Users/khasi-marc/PROGRAMMING/webscrapping/chromedriver_80', options=option)"
   ]
  },
  {
   "cell_type": "code",
   "execution_count": null,
   "metadata": {},
   "outputs": [],
   "source": [
    "# go to page you want"
   ]
  },
  {
   "cell_type": "code",
   "execution_count": 111,
   "metadata": {},
   "outputs": [],
   "source": [
    "browser.get(\"https://www.amazon.com/Furinno-14035EX-Study-Table-Espresso/dp/B00NIYX9LC/ref=sr_1_2?dchild=1&keywords=table&qid=1585937823&sr=8-2\")"
   ]
  },
  {
   "cell_type": "markdown",
   "metadata": {},
   "source": [
    "Amazon ids to scrap"
   ]
  },
  {
   "cell_type": "raw",
   "metadata": {},
   "source": [
    "<span id=\"productTitle\" class=\"a-size-large\"> </span> --> the tag with the product name"
   ]
  },
  {
   "cell_type": "raw",
   "metadata": {},
   "source": [
    "<span id=\"priceblock_ourprice\" class=\"a-size-medium a-color-price priceBlockBuyingPriceString\"></span> --> the tag with the product price"
   ]
  },
  {
   "cell_type": "raw",
   "metadata": {},
   "source": [
    "<span id=“priceblock_dealprice” class=\"a-size-medium a-color-price priceBlockBuyingPriceString\"></span> --> the tag with the product price of there is a deal"
   ]
  },
  {
   "cell_type": "markdown",
   "metadata": {},
   "source": [
    "Title"
   ]
  },
  {
   "cell_type": "code",
   "execution_count": 112,
   "metadata": {},
   "outputs": [],
   "source": [
    "title_element = browser.find_element_by_id('productTitle')"
   ]
  },
  {
   "cell_type": "code",
   "execution_count": 113,
   "metadata": {},
   "outputs": [
    {
     "data": {
      "text/plain": [
       "'FURINNO Simplistic Study Table, Espresso'"
      ]
     },
     "execution_count": 113,
     "metadata": {},
     "output_type": "execute_result"
    }
   ],
   "source": [
    "title_element.text"
   ]
  },
  {
   "cell_type": "markdown",
   "metadata": {},
   "source": [
    "price"
   ]
  },
  {
   "cell_type": "code",
   "execution_count": 114,
   "metadata": {},
   "outputs": [],
   "source": [
    "title_price = browser.find_element_by_id('priceblock_ourprice')"
   ]
  },
  {
   "cell_type": "code",
   "execution_count": 115,
   "metadata": {},
   "outputs": [
    {
     "data": {
      "text/plain": [
       "'$27.23'"
      ]
     },
     "execution_count": 115,
     "metadata": {},
     "output_type": "execute_result"
    }
   ],
   "source": [
    "title_price.text"
   ]
  },
  {
   "cell_type": "code",
   "execution_count": 116,
   "metadata": {},
   "outputs": [],
   "source": [
    "asin_elements = browser.find_elements_by_xpath(\"//div[@id ='productDetails_feature_div']//td[@class = 'a-size-base']\")"
   ]
  },
  {
   "cell_type": "code",
   "execution_count": 117,
   "metadata": {},
   "outputs": [
    {
     "data": {
      "text/plain": [
       "'B00NIYX9LC'"
      ]
     },
     "execution_count": 117,
     "metadata": {},
     "output_type": "execute_result"
    }
   ],
   "source": [
    "asin_elements[4].text\n"
   ]
  },
  {
   "cell_type": "markdown",
   "metadata": {},
   "source": [
    "Target"
   ]
  },
  {
   "cell_type": "raw",
   "metadata": {},
   "source": [
    "<h1 class=\"Heading__StyledHeading-sc-1m9kw5a-0 cjvGgs h-margin-b-none h-margin-b-tiny h-text-bold\" tabindex=\"-1\" data-test=\"product-title\" itemprop=\"name\"><span>Ninja 5.5qt Air Fryer Max XL</span></h1>"
   ]
  },
  {
   "cell_type": "raw",
   "metadata": {},
   "source": [
    "<div class=\"style__PriceFontSize-gob4i1-0 fwkyhU h-text-bold\" data-test=\"product-price\">$139.99</div>"
   ]
  },
  {
   "cell_type": "raw",
   "metadata": {},
   "source": [
    "<td class=\"a-size-base\">B07GJBBGHG</td>"
   ]
  },
  {
   "cell_type": "code",
   "execution_count": null,
   "metadata": {},
   "outputs": [],
   "source": []
  }
 ],
 "metadata": {
  "kernelspec": {
   "display_name": "Python 3",
   "language": "python",
   "name": "python3"
  },
  "language_info": {
   "codemirror_mode": {
    "name": "ipython",
    "version": 3
   },
   "file_extension": ".py",
   "mimetype": "text/x-python",
   "name": "python",
   "nbconvert_exporter": "python",
   "pygments_lexer": "ipython3",
   "version": "3.7.3"
  }
 },
 "nbformat": 4,
 "nbformat_minor": 4
}
