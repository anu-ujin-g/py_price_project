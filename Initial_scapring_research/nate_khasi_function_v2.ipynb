{
 "cells": [
  {
   "cell_type": "code",
   "execution_count": 29,
   "metadata": {},
   "outputs": [],
   "source": [
    "from selenium import webdriver\n",
    "from itertools import count\n",
    "\n",
    "def find_top_n(search_term: str, n: int, low_price: float, high_price: float, min_reviews: int, min_rating: float) -> list:\n",
    "    '''\n",
    "    This function takes as input a search string, a number of items and a low and high value for that product.\n",
    "    Note: input search term as a space seperated string only. \n",
    "    It returns the n items that match the price criteria for the item. \n",
    "    '''\n",
    "    final_items = []\n",
    "    updated_search = search_term.replace(' ', '+')\n",
    "    for page_number in count(1):\n",
    "        if len(final_items) == n:\n",
    "            driver.close()\n",
    "            return final_items\n",
    "        if page_number >= 9:\n",
    "            print('The query has gone through 8 pages of items, but only {} have matched the criteria. The query has halted and your basket will contain this many itenms, as there are not likely to be more matches'.format(len(final_items)))\n",
    "            break\n",
    "            driver.close()\n",
    "        page = True\n",
    "        driver = webdriver.Chrome(executable_path='C:\\Program Files\\Chrome\\chromedriver.exe')\n",
    "        search = driver.get('https://www.amazon.com/s?k={0}&page={1}&qid=1586809805&ref=sr_pg_3'.format(updated_search, page_number))\n",
    "        while page:\n",
    "            for i in count(0):\n",
    "                item = driver.find_elements_by_css_selector('div[data-index=\"{}\"]'.format(i))\n",
    "                if len(item) == 0:\n",
    "                    # go to next page and start iterator over?\n",
    "                    page = False\n",
    "                    break\n",
    "                try:\n",
    "                    price = item[0].find_element_by_class_name('a-price').text\n",
    "                    final_price = float(price.replace('$',\"\").replace('\\n', '.'))\n",
    "                except:\n",
    "                    final_price = 0\n",
    "                asin = item[0].get_attribute('data-asin')\n",
    "                if asin != '':    \n",
    "                    if final_price >= low_price:\n",
    "                        if final_price <= high_price:\n",
    "                            reviews = item[0].find_elements_by_css_selector('span[aria-label]')\n",
    "                            try:\n",
    "                                rating = float(reviews[0].get_attribute('aria-label')[:3])\n",
    "                            except:\n",
    "                                rating = 0\n",
    "                            try:\n",
    "                                num_reviews = int(reviews[1].get_attribute('aria-label').replace(',',''))\n",
    "                            except:\n",
    "                                num_reviews = 0 \n",
    "                            if num_reviews >= min_reviews:\n",
    "                                if rating >= min_rating:\n",
    "                                    url = 'https://www.amazon.com/dp/' + asin\n",
    "                                    if url not in final_items:\n",
    "                                        final_items.append(url)\n",
    "                if len(final_items) == n:\n",
    "                    driver.close()\n",
    "                    return final_items\n",
    "    return(final_items)"
   ]
  },
  {
   "cell_type": "code",
   "execution_count": 30,
   "metadata": {},
   "outputs": [
    {
     "data": {
      "text/plain": [
       "['https://www.amazon.com/dp/B077ZJXCTS',\n",
       " 'https://www.amazon.com/dp/B0785VXRX2']"
      ]
     },
     "execution_count": 30,
     "metadata": {},
     "output_type": "execute_result"
    }
   ],
   "source": [
    "path = '/usr/local/bin/chromedriver'\n",
    "\n",
    "\n",
    "find_top_n('shirt', 2,5,25,10,4.0)"
   ]
  },
  {
   "cell_type": "code",
   "execution_count": null,
   "metadata": {},
   "outputs": [],
   "source": [
    "find_top_n('gaming keyboard', 10, 60, 100, 100, 4.0)"
   ]
  },
  {
   "cell_type": "code",
   "execution_count": null,
   "metadata": {},
   "outputs": [],
   "source": [
    "{'B01LVTI3TO': '814855022670',\n",
    " 'B07DHNZ676': '814855027965',\n",
    " 'B01NAI2TXC': '6959011595781',\n",
    " 'B0744NVPJ8': '814855024179',\n",
    " 'B07796MBJ7': '097855135285',\n",
    " 'B0716Q4932': '843591094696',\n",
    " 'B06ZYH9WB5': '737561347946',\n",
    " 'B07MNZ24HP': '6971522121952'}"
   ]
  },
  {
   "cell_type": "code",
   "execution_count": 3,
   "metadata": {},
   "outputs": [
    {
     "data": {
      "text/plain": [
       "['https://www.amazon.com/dp/B07VM28XTR',\n",
       " 'https://www.amazon.com/dp/B07GJBBGHG',\n",
       " 'https://www.amazon.com/dp/B0777RJG6D',\n",
       " 'https://www.amazon.com/dp/B07FDJMC9Q',\n",
       " 'https://www.amazon.com/dp/B07VF7J5VQ',\n",
       " 'https://www.amazon.com/dp/B07FF117K7',\n",
       " 'https://www.amazon.com/dp/B07ZWG619F',\n",
       " 'https://www.amazon.com/dp/B07VM1FT8W',\n",
       " 'https://www.amazon.com/dp/B07GNSHPBQ',\n",
       " 'https://www.amazon.com/dp/B01LX9T6HF']"
      ]
     },
     "execution_count": 3,
     "metadata": {},
     "output_type": "execute_result"
    }
   ],
   "source": [
    "find_top_n('air fryer', 10, 40, 120, 400, 4.2)"
   ]
  },
  {
   "cell_type": "code",
   "execution_count": null,
   "metadata": {},
   "outputs": [],
   "source": [
    "{'B07VM28XTR': '857561008644',\n",
    " 'B07GJBBGHG': '817915024140',\n",
    " 'B0777RJG6D': '819687020122',\n",
    " 'B07FDJMC9Q': '622356554572',\n",
    " 'B07VF7J5VQ': '857561008828',\n",
    " 'B07FF117K7': '606024836276',\n",
    " 'B07ZWG619F': '819687023437',\n",
    " 'B07VM1FT8W': '857561008637',\n",
    " 'B07GNSHPBQ': '850000706194',\n",
    " 'B01LX9T6HF': '853821006634'}"
   ]
  },
  {
   "cell_type": "code",
   "execution_count": 4,
   "metadata": {},
   "outputs": [
    {
     "data": {
      "text/plain": [
       "['https://www.amazon.com/dp/B00CFOX420',\n",
       " 'https://www.amazon.com/dp/B075QVMBT9',\n",
       " 'https://www.amazon.com/dp/B077N2GQXC',\n",
       " 'https://www.amazon.com/dp/B00ILALQZO',\n",
       " 'https://www.amazon.com/dp/B01J66YEU0',\n",
       " 'https://www.amazon.com/dp/B01M0F374X',\n",
       " 'https://www.amazon.com/dp/B07QC3XWV2',\n",
       " 'https://www.amazon.com/dp/B00X741TKG',\n",
       " 'https://www.amazon.com/dp/B07FJ349K6',\n",
       " 'https://www.amazon.com/dp/B076X9C7H1']"
      ]
     },
     "execution_count": 4,
     "metadata": {},
     "output_type": "execute_result"
    }
   ],
   "source": [
    "find_top_n('music studio monitors', 10, 1, 500, 25, 4.0)"
   ]
  },
  {
   "cell_type": "code",
   "execution_count": null,
   "metadata": {},
   "outputs": [],
   "source": []
  },
  {
   "cell_type": "code",
   "execution_count": null,
   "metadata": {},
   "outputs": [],
   "source": []
  }
 ],
 "metadata": {
  "kernelspec": {
   "display_name": "Python 3",
   "language": "python",
   "name": "python3"
  },
  "language_info": {
   "codemirror_mode": {
    "name": "ipython",
    "version": 3
   },
   "file_extension": ".py",
   "mimetype": "text/x-python",
   "name": "python",
   "nbconvert_exporter": "python",
   "pygments_lexer": "ipython3",
   "version": "3.7.4"
  }
 },
 "nbformat": 4,
 "nbformat_minor": 2
}
