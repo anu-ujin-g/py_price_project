{
 "cells": [
  {
   "cell_type": "code",
   "execution_count": 4,
   "metadata": {},
   "outputs": [],
   "source": [
    "import selenium\n",
    "\n",
    "from selenium import webdriver\n",
    "from selenium.webdriver.common.keys import Keys\n",
    "from itertools import count\n",
    "\n",
    "def find_top_n(search_term: str, n: int, low_price: float, high_price: float, min_reviews: int, min_rating: float) -> list:\n",
    "    '''\n",
    "    This function takes as input a search string, a number of items and a low and high value for that product.\n",
    "    Note: input search term as a space seperated string only. \n",
    "    It returns the n items that match the price criteria for the item. \n",
    "    '''\n",
    "    final_items = []\n",
    "    updated_search = search_term.replace(' ', '+')\n",
    "    for page_number in count(1):\n",
    "        print(page_number)\n",
    "        if len(final_items) == n:\n",
    "            return final_items\n",
    "        if page_number >= 9:\n",
    "            print('The query has gone through 8 pages of items, but only {} have matched the criteria. The query has halted and your basket will contain this many itenms, as there are not likely to be more matches'.format(len(final_items)))\n",
    "            break\n",
    "        page = True\n",
    "        driver = webdriver.Chrome(executable_path='C:\\Program Files\\Chrome\\chromedriver.exe')\n",
    "        search = driver.get('https://www.amazon.com/s?k={0}&page={1}&qid=1586809805&ref=sr_pg_3'.format(updated_search, page_number))\n",
    "        while page:\n",
    "            for i in count(0):\n",
    "                print('item:{}'.format(i))\n",
    "                item = driver.find_elements_by_css_selector('div[data-index=\"{}\"]'.format(i))\n",
    "                if len(item) == 0:\n",
    "                    # go to next page and start iterator over?\n",
    "                    page = False\n",
    "                    break\n",
    "                try:\n",
    "                    price = item[0].find_element_by_class_name('a-price').text\n",
    "                    final_price = float(price.replace('$',\"\").replace('\\n', '.'))\n",
    "                except:\n",
    "                    final_price = 0\n",
    "                if final_price >= low_price:\n",
    "                    if final_price <= high_price:\n",
    "                        asin = item[0].get_attribute('data-asin')\n",
    "                        reviews = item[0].find_elements_by_css_selector('span[aria-label]')\n",
    "                        rating = float(reviews[0].get_attribute('aria-label')[:3])\n",
    "                        num_reviews = int(reviews[1].get_attribute('aria-label').replace(',',''))\n",
    "                        if num_reviews >= min_reviews:\n",
    "                            if rating >= min_rating:\n",
    "                                url = 'www.amazon.com/dp/' + asin\n",
    "                                if url not in final_items:\n",
    "                                    final_items.append(url)\n",
    "                if len(final_items) == n:\n",
    "                    return final_items\n",
    "    return(final_items)"
   ]
  },
  {
   "cell_type": "code",
   "execution_count": 5,
   "metadata": {},
   "outputs": [
    {
     "name": "stdout",
     "output_type": "stream",
     "text": [
      "1\n",
      "item:0\n",
      "item:1\n",
      "item:2\n",
      "item:3\n",
      "item:4\n",
      "item:5\n",
      "item:6\n",
      "item:7\n",
      "item:8\n",
      "item:9\n",
      "item:10\n",
      "item:11\n",
      "item:12\n",
      "item:13\n",
      "item:14\n",
      "item:15\n",
      "item:16\n",
      "item:17\n",
      "item:18\n",
      "item:19\n",
      "item:20\n",
      "item:21\n",
      "item:22\n",
      "item:23\n",
      "item:24\n",
      "2\n",
      "item:0\n",
      "item:1\n",
      "item:2\n",
      "item:3\n",
      "item:4\n",
      "item:5\n",
      "item:6\n",
      "item:7\n",
      "item:8\n",
      "item:9\n",
      "item:10\n",
      "item:11\n",
      "item:12\n",
      "item:13\n",
      "item:14\n",
      "item:15\n",
      "item:16\n",
      "item:17\n",
      "item:18\n",
      "item:19\n",
      "item:20\n",
      "item:21\n",
      "item:22\n",
      "3\n",
      "item:0\n",
      "item:1\n",
      "item:2\n",
      "item:3\n",
      "item:4\n",
      "item:5\n",
      "item:6\n",
      "item:7\n",
      "item:8\n",
      "item:9\n",
      "item:10\n",
      "item:11\n",
      "item:12\n",
      "item:13\n",
      "item:14\n",
      "item:15\n",
      "item:16\n",
      "item:17\n",
      "item:18\n",
      "item:19\n",
      "item:20\n",
      "item:21\n",
      "item:22\n",
      "4\n",
      "item:0\n",
      "item:1\n",
      "item:2\n",
      "item:3\n"
     ]
    },
    {
     "data": {
      "text/plain": [
       "['www.amazon.com/dp/B01LVTI3TO',\n",
       " 'www.amazon.com/dp/B07BKHP2NK',\n",
       " 'www.amazon.com/dp/B07QBD76TX',\n",
       " 'www.amazon.com/dp/B0744NVPJ8',\n",
       " 'www.amazon.com/dp/B07DHNZ676',\n",
       " 'www.amazon.com/dp/B01NAI2TXC',\n",
       " 'www.amazon.com/dp/B013P0HW7K',\n",
       " 'www.amazon.com/dp/B084GYSFDT',\n",
       " 'www.amazon.com/dp/B07WC141LZ',\n",
       " 'www.amazon.com/dp/B07796MBJ7']"
      ]
     },
     "execution_count": 5,
     "metadata": {},
     "output_type": "execute_result"
    }
   ],
   "source": [
    "find_top_n('gaming keyboard', 10, 60, 100, 100, 4.0)"
   ]
  },
  {
   "cell_type": "code",
   "execution_count": 6,
   "metadata": {},
   "outputs": [
    {
     "name": "stdout",
     "output_type": "stream",
     "text": [
      "1\n",
      "item:0\n",
      "item:1\n",
      "item:2\n",
      "item:3\n",
      "item:4\n",
      "item:5\n",
      "item:6\n",
      "item:7\n",
      "item:8\n",
      "item:9\n",
      "item:10\n",
      "item:11\n",
      "item:12\n",
      "item:13\n",
      "item:14\n"
     ]
    },
    {
     "data": {
      "text/plain": [
       "['www.amazon.com/dp/B0777RJG6D',\n",
       " 'www.amazon.com/dp/B07GJBBGHG',\n",
       " 'www.amazon.com/dp/B07FDJMC9Q',\n",
       " 'www.amazon.com/dp/B07FF117K7',\n",
       " 'www.amazon.com/dp/B07VF7J5VQ',\n",
       " 'www.amazon.com/dp/B07CZZ59CQ',\n",
       " 'www.amazon.com/dp/B07KWFC5Y7',\n",
       " 'www.amazon.com/dp/B01LX9T6HF',\n",
       " 'www.amazon.com/dp/B07GNSHPBQ',\n",
       " 'www.amazon.com/dp/B07ZWG619F']"
      ]
     },
     "execution_count": 6,
     "metadata": {},
     "output_type": "execute_result"
    }
   ],
   "source": [
    "find_top_n('air_fryer', 10, 40, 120, 400, 4.2)"
   ]
  },
  {
   "cell_type": "code",
   "execution_count": null,
   "metadata": {},
   "outputs": [],
   "source": []
  }
 ],
 "metadata": {
  "kernelspec": {
   "display_name": "Python 3",
   "language": "python",
   "name": "python3"
  },
  "language_info": {
   "codemirror_mode": {
    "name": "ipython",
    "version": 3
   },
   "file_extension": ".py",
   "mimetype": "text/x-python",
   "name": "python",
   "nbconvert_exporter": "python",
   "pygments_lexer": "ipython3",
   "version": "3.7.4"
  }
 },
 "nbformat": 4,
 "nbformat_minor": 2
}
