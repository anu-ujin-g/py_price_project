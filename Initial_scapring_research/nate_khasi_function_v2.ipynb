{
 "cells": [
  {
   "cell_type": "code",
   "execution_count": 15,
   "metadata": {},
   "outputs": [],
   "source": [
    "from selenium import webdriver\n",
    "from itertools import count\n",
    "\n",
    "def find_top_n(search_term: str, n: int, low_price: float, high_price: float, min_reviews: int, min_rating: float) -> list:\n",
    "    '''\n",
    "    This function takes as input a search string, a number of items and a low and high value for that product.\n",
    "    Note: input search term as a space seperated string only. \n",
    "    It returns the n items that match the price criteria for the item. \n",
    "    '''\n",
    "    final_items = []\n",
    "    updated_search = search_term.replace(' ', '+')\n",
    "    for page_number in count(1):\n",
    "        if len(final_items) == n:\n",
    "            return final_items\n",
    "        if page_number >= 9:\n",
    "            print('The query has gone through 8 pages of items, but only {} have matched the criteria. The query has halted and your basket will contain this many itenms, as there are not likely to be more matches'.format(len(final_items)))\n",
    "            break\n",
    "        page = True\n",
    "        driver = webdriver.Chrome(executable_path='C:\\Program Files\\Chrome\\chromedriver.exe')\n",
    "        search = driver.get('https://www.amazon.com/s?k={0}&page={1}&qid=1586809805&ref=sr_pg_3'.format(updated_search, page_number))\n",
    "        while page:\n",
    "            for i in count(0):\n",
    "                item = driver.find_elements_by_css_selector('div[data-index=\"{}\"]'.format(i))\n",
    "                if len(item) == 0:\n",
    "                    # go to next page and start iterator over?\n",
    "                    page = False\n",
    "                    break\n",
    "                try:\n",
    "                    price = item[0].find_element_by_class_name('a-price').text\n",
    "                    final_price = float(price.replace('$',\"\").replace('\\n', '.'))\n",
    "                except:\n",
    "                    final_price = 0\n",
    "                asin = item[0].get_attribute('data-asin')\n",
    "                if asin != '':    \n",
    "                    if final_price >= low_price:\n",
    "                        if final_price <= high_price:\n",
    "                            reviews = item[0].find_elements_by_css_selector('span[aria-label]')\n",
    "                            rating = float(reviews[0].get_attribute('aria-label')[:3])\n",
    "                            num_reviews = int(reviews[1].get_attribute('aria-label').replace(',',''))\n",
    "                            if num_reviews >= min_reviews:\n",
    "                                if rating >= min_rating:\n",
    "                                    url = 'www.amazon.com/dp/' + asin\n",
    "                                    if url not in final_items:\n",
    "                                        final_items.append(url)\n",
    "                if len(final_items) == n:\n",
    "                    return final_items\n",
    "    return(final_items)"
   ]
  },
  {
   "cell_type": "code",
   "execution_count": 12,
   "metadata": {},
   "outputs": [
    {
     "data": {
      "text/plain": [
       "['www.amazon.com/dp/B01LVTI3TO',\n",
       " 'www.amazon.com/dp/B07DHNZ676',\n",
       " 'www.amazon.com/dp/B01NAI2TXC',\n",
       " 'www.amazon.com/dp/B07QS6MG8B',\n",
       " 'www.amazon.com/dp/B06ZYH9WB5',\n",
       " 'www.amazon.com/dp/B07796MBJ7',\n",
       " 'www.amazon.com/dp/B07MNZ24HP',\n",
       " 'www.amazon.com/dp/B07YMHGP86',\n",
       " 'www.amazon.com/dp/B07P6Y1KP9',\n",
       " 'www.amazon.com/dp/B07WC141LZ']"
      ]
     },
     "execution_count": 12,
     "metadata": {},
     "output_type": "execute_result"
    }
   ],
   "source": [
    "find_top_n('gaming keyboard', 10, 60, 100, 100, 4.0)"
   ]
  },
  {
   "cell_type": "code",
   "execution_count": 13,
   "metadata": {},
   "outputs": [
    {
     "data": {
      "text/plain": [
       "['www.amazon.com/dp/B07GJBBGHG',\n",
       " 'www.amazon.com/dp/B07VF7J5VQ',\n",
       " 'www.amazon.com/dp/B0777RJG6D',\n",
       " 'www.amazon.com/dp/B07FDJMC9Q',\n",
       " 'www.amazon.com/dp/B07FF117K7',\n",
       " 'www.amazon.com/dp/B07VM28XTR',\n",
       " 'www.amazon.com/dp/B07ZWG619F',\n",
       " 'www.amazon.com/dp/B07CZZ59CQ',\n",
       " 'www.amazon.com/dp/B01LX9T6HF',\n",
       " 'www.amazon.com/dp/B07JBLY2D2']"
      ]
     },
     "execution_count": 13,
     "metadata": {},
     "output_type": "execute_result"
    }
   ],
   "source": [
    "find_top_n('air fryer', 10, 40, 120, 400, 4.2)"
   ]
  },
  {
   "cell_type": "code",
   "execution_count": 14,
   "metadata": {},
   "outputs": [
    {
     "data": {
      "text/plain": [
       "['www.amazon.com/dp/B07QC3XWV2',\n",
       " 'www.amazon.com/dp/B075QVMBT9',\n",
       " 'www.amazon.com/dp/B077N2GQXC',\n",
       " 'www.amazon.com/dp/B00ILALQZO',\n",
       " 'www.amazon.com/dp/B01J66YEU0',\n",
       " 'www.amazon.com/dp/B01M0F374X',\n",
       " 'www.amazon.com/dp/B07FJ349K6',\n",
       " 'www.amazon.com/dp/B076X9C7H1',\n",
       " 'www.amazon.com/dp/B00X741TKG',\n",
       " 'www.amazon.com/dp/B07MHQZV62']"
      ]
     },
     "execution_count": 14,
     "metadata": {},
     "output_type": "execute_result"
    }
   ],
   "source": [
    "find_top_n('music studio monitors', 10, 1, 500, 25, 4.0)"
   ]
  },
  {
   "cell_type": "code",
   "execution_count": null,
   "metadata": {},
   "outputs": [],
   "source": []
  },
  {
   "cell_type": "code",
   "execution_count": null,
   "metadata": {},
   "outputs": [],
   "source": []
  }
 ],
 "metadata": {
  "kernelspec": {
   "display_name": "Python 3",
   "language": "python",
   "name": "python3"
  },
  "language_info": {
   "codemirror_mode": {
    "name": "ipython",
    "version": 3
   },
   "file_extension": ".py",
   "mimetype": "text/x-python",
   "name": "python",
   "nbconvert_exporter": "python",
   "pygments_lexer": "ipython3",
   "version": "3.7.4"
  }
 },
 "nbformat": 4,
 "nbformat_minor": 2
}
