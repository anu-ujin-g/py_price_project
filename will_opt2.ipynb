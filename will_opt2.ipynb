{
 "cells": [
  {
   "cell_type": "code",
   "execution_count": 16,
   "metadata": {},
   "outputs": [],
   "source": [
    "from selenium.webdriver import Chrome\n",
    "from selenium.webdriver.chrome.options import Options\n",
    "import pandas as pd\n",
    "from selenium.webdriver.common.keys import Keys\n",
    "import numpy as np\n",
    "import time\n",
    "from datetime import datetime"
   ]
  },
  {
   "cell_type": "code",
   "execution_count": 17,
   "metadata": {},
   "outputs": [],
   "source": [
    "#List of product urls we want to track prices for\n",
    "urls_culinary = ['https://www.amazon.com/Lodge-Skillet-Pre-Seasoned-Skillet-Silicone/dp/B00G2XGC88/ref=sxbs_sxwds-stvp?cv_ct_cx=075536301006&dchild=1&keywords=075536301006&pd_rd_i=B00G2XGC88&pd_rd_r=70341346-4dc8-4a5e-9f66-dbb5778921ce&pd_rd_w=haIr5&pd_rd_wg=luESg&pf_rd_p=183579a1-f0e6-4556-8e39-8fe08e8f8141&pf_rd_r=MVY3PBAWSQ37BDCYDZY5&psc=1&qid=1587220852&sr=1-1-dd5817a1-1ba7-46c2-8996-f96e7b0f409c',\n",
    "        'https://www.amazon.com/KitchenAid-KHB1231IC-2-Speed-Hand-Blender/dp/B00LXHU61W/ref=sr_1_1?dchild=1&keywords=883049336367&qid=1587220902&s=home-garden&sr=1-1',\n",
    "        'https://www.amazon.com/Lodge-Quart-Dutch-Pre-Seasoned-Handle/dp/B00063RWYI/ref=sr_1_1?dchild=1&keywords=075536361505&qid=1587220950&s=home-garden&sr=1-1',\n",
    "        'https://www.amazon.com/J-Henckels-International-Forged-16901-201/dp/B001S41SH6/ref=sr_1_1?dchild=1&keywords=035886257644&qid=1587221023&s=home-garden&sr=1-1',\n",
    "        'https://www.amazon.com/George-Foreman-Adjustable-Temperature-GR2121P/dp/B00C1TA3JG/ref=sr_1_2_sspa?dchild=1&keywords=027043993854&qid=1587221189&sr=8-2-spons&psc=1&spLa=ZW5jcnlwdGVkUXVhbGlmaWVyPUEyNFJTTjk1NFpBTEpPJmVuY3J5cHRlZElkPUEwNDMzMDA5MzFEVzhVN0tZSDVESiZlbmNyeXB0ZWRBZElkPUEwNTYzNjM3MU9RRjlGSlU0QUVCNyZ3aWRnZXROYW1lPXNwX210ZiZhY3Rpb249Y2xpY2tSZWRpcmVjdCZkb05vdExvZ0NsaWNrPXRydWU=',\n",
    "        'https://www.amazon.com/Cuisinart-SS-15-Coffee-Coffeemaker-Single-Serve/dp/B01KIG4YNO/ref=sr_1_1?dchild=1&keywords=086279090645&qid=1587221345&sr=8-1',\n",
    "        'https://www.amazon.com/Cuisinart-GR-4N-Griddler-Silver-Black/dp/B002YD99Y4/ref=sr_1_6?dchild=1&keywords=086279007759&qid=1587221381&sr=8-6',\n",
    "        'https://www.amazon.com/Cuisinart-FP-8GM-Elemental-Processor-Gunmetal/dp/B00MVWGFP4/ref=sr_1_1?dchild=1&keywords=086279080370&qid=1587221450&sr=8-1',\n",
    "        'https://www.amazon.com/Weber-44010001-Spirit-2-Burner-Propane/dp/B077K1MK8N/ref=sr_1_1?dchild=1&keywords=077924058516&qid=1587221524&sr=8-1',\n",
    "        'https://www.amazon.com/Weber-Original-Kettle-Charcoal-Grill/dp/B00004RALW/ref=sr_1_1?dchild=1&keywords=077924025297&qid=1587221556&sr=8-1'\n",
    "        \n",
    "]\n",
    "\n",
    "urls = [\n",
    "          'https://www.amazon.com/Dark-Souls-Remastered-PlayStation-4/dp/B078Y4FR14/ref=sr_1_1?dchild=1&keywords=dark+souls+remastered&qid=1587182763&sr=8-1',\n",
    "          'https://www.amazon.com/Dark-Souls-Remastered-Xbox-One/dp/B078Y4DLC1/ref=sr_1_1?dchild=1&keywords=dark+souls+remastered+xbox+1&qid=1586987434&sr=8-1',\n",
    "          'https://www.amazon.com/Bloodborne-Hits-PlayStation-4/dp/B07DNLYMV4/ref=sr_1_6?dchild=1&keywords=bloodborne&qid=1587044407&sr=8-6',\n",
    "    'https://www.amazon.com/Red-Dead-Redemption-PS4-playstation-4/dp/B0776YMQN1/ref=sr_1_3?dchild=1&keywords=2+red+dead+redemption&qid=1587182901&sr=8-3',\n",
    "    'https://www.amazon.com/Red-Dead-Redemption-2-Xbox-One/dp/B01MAYC1CJ/ref=sr_1_4?dchild=1&keywords=2+red+dead+redemption&qid=1587182901&sr=8-4',\n",
    "    'https://www.amazon.com/Sekiro-Shadows-Die-Twice-PlayStation-4/dp/B07DJWBYJN/ref=sr_1_1?dchild=1&keywords=sekiro&qid=1587183027&sr=8-1',\n",
    "        'https://www.amazon.com/Sekiro-Shadows-Die-Twice-Xbox-One/dp/B07DNQD2GQ/ref=sr_1_2?dchild=1&keywords=sekiro&qid=1587217583&sr=8-2',\n",
    "    'https://www.amazon.com/Halo-5-Xbox-One/dp/B00D781W3Q/ref=sr_1_1?dchild=1&keywords=halo+5&qid=1587217844&sr=8-1',\n",
    "    'https://www.amazon.com/God-War-Hits-PlayStation-4/dp/B07XQKTPB2/ref=sr_1_1?crid=31MMOB765K721&dchild=1&keywords=god+of+war+ps4&qid=1587217879&sprefix=god+of+war%2Caps%2C152&sr=8-1',\n",
    "    'https://www.amazon.com/Uncharted-4-Thiefs-End-PS4-playstation/dp/B07GLGSHWN/ref=sr_1_6?dchild=1&keywords=uncharted+4&qid=1587217909&sr=8-6'\n",
    "\n",
    "]"
   ]
  },
  {
   "cell_type": "code",
   "execution_count": 18,
   "metadata": {},
   "outputs": [
    {
     "data": {
      "text/plain": [
       "\"\\n# ASIN_dict\\n# key: ASIN, value: UPC\\ntry:\\n\\twith open('asin_dict.pickle', 'rb') as file:\\n\\t\\tASIN_dict = pickle.load(file)\\nexcept FileNotFoundError:\\n\\tASIN_dict = dict()\\n\\n# UPC_dict\\n# key: UPC, value: product title\\ntry:\\n\\twith open('upc_dict.picle', 'rb') as file:\\n\\t\\tUPC_dict = pickle.load(file)\\nexcept FileNotFoundError:\\n\\tUPC_dict = dict()\\n\""
      ]
     },
     "execution_count": 18,
     "metadata": {},
     "output_type": "execute_result"
    }
   ],
   "source": [
    "'''This is persistent dictionaries: write each dictionary as a file to local computer\n",
    "* Might not need this at all if final project uses jupyter notebook'''\n",
    "\n",
    "'''\n",
    "# ASIN_dict\n",
    "# key: ASIN, value: UPC\n",
    "try:\n",
    "\twith open('asin_dict.pickle', 'rb') as file:\n",
    "\t\tASIN_dict = pickle.load(file)\n",
    "except FileNotFoundError:\n",
    "\tASIN_dict = dict()\n",
    "\n",
    "# UPC_dict\n",
    "# key: UPC, value: product title\n",
    "try:\n",
    "\twith open('upc_dict.picle', 'rb') as file:\n",
    "\t\tUPC_dict = pickle.load(file)\n",
    "except FileNotFoundError:\n",
    "\tUPC_dict = dict()\n",
    "'''"
   ]
  },
  {
   "cell_type": "code",
   "execution_count": 19,
   "metadata": {},
   "outputs": [],
   "source": [
    "# key: asin \n",
    "# value: upc\n",
    "\n",
    "ASIN_dict = {}"
   ]
  },
  {
   "cell_type": "code",
   "execution_count": 20,
   "metadata": {},
   "outputs": [],
   "source": [
    "amazon_name = []\n",
    "amazon_price = []\n",
    "scrape_time = []\n",
    "target_name = []\n",
    "target_price = [] \n",
    "walmart_name = []\n",
    "walmart_price = []"
   ]
  },
  {
   "cell_type": "code",
   "execution_count": 26,
   "metadata": {},
   "outputs": [],
   "source": [
    "def scraper(urls, path='/Users/williamegan/Desktop/SPRING2020/3001/project/chromedriver'):\n",
    "    count=0\n",
    "    for url in urls:\n",
    "        print('url ', count)\n",
    "        count+=1\n",
    "        driver = Chrome(executable_path= path)\n",
    "        driver.get(url)\n",
    "        \n",
    "       \n",
    "        #grab product name from amazon\n",
    "        amazon_name.append(driver.find_element_by_xpath('//*[@id=\"productTitle\"]').text)\n",
    "        \n",
    "        #get amazon price, if price is no longer available append 'no price'\n",
    "        try:\n",
    "            amazon_price.append(driver.find_element_by_xpath('//*[@id=\"priceblock_ourprice\"]').text)\n",
    "        except:\n",
    "            amazon_price.append('no price')\n",
    "            \n",
    "        #save time of the scrape\n",
    "        scrape_time.append(str(datetime.today()))\n",
    "        \n",
    "        #get the asin\n",
    "        asin = url.split('/')[5]\n",
    "        driver.quit()\n",
    "        \n",
    "        #if upc for a specific asin has already been looked up do not look up\n",
    "        if asin in ASIN_dict:\n",
    "            upc_id = ASIN_dict[asin]\n",
    "            \n",
    "        # Getting UPC from ASIN\n",
    "        else:\n",
    "            upc_driver = Chrome(executable_path=path)\n",
    "            upc_driver.get('https://www.synccentric.com/features/upc-asin/')\n",
    "            box = upc_driver.find_element_by_id('scrollto')\n",
    "            form = box.find_element_by_class_name('form-group')\n",
    "            input = form.find_element_by_name('identifier')\n",
    "            input.send_keys(asin)\n",
    "            input.submit()\n",
    "            #wait for the webpage to load\n",
    "            time.sleep(10)\n",
    "            id_list = upc_driver.find_element_by_class_name('col-sm-8').find_elements_by_tag_name('strong')\n",
    "            upc_id = id_list[1].get_attribute('innerHTML')\n",
    "            upc_driver.quit()\n",
    "            \n",
    "            #add the new asin --> upc to the dict\n",
    "            ASIN_dict[asin] = upc_id\n",
    "            \n",
    "            #sleep so you are not locked out\n",
    "            if len(urls) >10:\n",
    "                time.sleep(360)\n",
    "\n",
    "        #find product on target\n",
    "        target_driver = Chrome(executable_path=path)\n",
    "        target_url = 'https://www.target.com/s?searchTerm=' + upc_id\n",
    "        target_driver.get(target_url)\n",
    "        #wait for the webpage to load\n",
    "        time.sleep(10)\n",
    "        \n",
    "        \n",
    "        \n",
    "        #get target name if the item is found on target \n",
    "        try:\n",
    "            name = target_driver.find_element_by_xpath('//*[@id=\"mainContainer\"]/div[3]/div[2]/div/div[1]/div[3]/div/ul/li/div/div[2]/div/div/div/div[1]/div[1]/a').text\n",
    "            target_name.append(name)\n",
    "        except:\n",
    "            target_name.append(\"no name found\")\n",
    "        \n",
    "        #Get target price if item was found on target\n",
    "        try:\n",
    "            price = target_driver.find_element_by_xpath('//*[@id=\"mainContainer\"]/div[3]/div[2]/div/div[1]/div[3]/div/ul/li/div/div[2]/div/div/div/div[2]/span').text\n",
    "            target_price.append(price)\n",
    "        except:\n",
    "            target_price.append(\"no price found\")\n",
    " \n",
    "        target_driver.quit()\n",
    "    \n",
    "        #find product on walmart\n",
    "        walmart_driver = Chrome(executable_path=path)\n",
    "        walmart_url = 'https://www.walmart.com/search/?query=' + upc_id\n",
    "        walmart_driver.get(walmart_url)\n",
    "        \n",
    "        names_prices = walmart_driver.find_elements_by_xpath(\"//div[contains(@class, 'tile-content Grid-col u-size-8-10-l list-description-wrapper')]\")\n",
    "        \n",
    "        #get walmart name and price if product was found on walmart\n",
    "        if len(names_prices) == 0:\n",
    "            \n",
    "            walmart_name.append('no name found')\n",
    "            walmart_price.append('no price found')\n",
    "        else:\n",
    "            for i in names_prices:\n",
    "                if 'Pack' not in i.text:\n",
    "                    #if name of the product from walmart has already been looked up do not scrape again\n",
    "                    \n",
    "                    walmart_name.append(i.text.split('\\n')[1])\n",
    "                    walmart_price.append(i.text.split('\\n')[9])\n",
    "              \n",
    "        walmart_driver.quit()"
   ]
  },
  {
   "cell_type": "code",
   "execution_count": 8,
   "metadata": {},
   "outputs": [],
   "source": [
    "# while True:\n",
    "#     scraper(urls)\n",
    "#     time.sleep(10)"
   ]
  },
  {
   "cell_type": "markdown",
   "metadata": {},
   "source": [
    "## This is our original way of running the scraper"
   ]
  },
  {
   "cell_type": "code",
   "execution_count": 9,
   "metadata": {},
   "outputs": [
    {
     "name": "stdout",
     "output_type": "stream",
     "text": [
      "url  0\n",
      "url  1\n",
      "url  2\n",
      "url  3\n",
      "url  4\n",
      "url  5\n",
      "url  6\n",
      "url  7\n",
      "url  8\n",
      "url  9\n",
      "Took:  403.04298400878906\n"
     ]
    }
   ],
   "source": [
    "ts = time.time()\n",
    "scraper(urls, '/Users/williamegan/Desktop/SPRING2020/3001/project/chromedriver')\n",
    "print('Took: ', time.time()-ts)"
   ]
  },
  {
   "cell_type": "code",
   "execution_count": 14,
   "metadata": {},
   "outputs": [],
   "source": [
    "prices = pd.DataFrame({'amazon_name' : amazon_name,\n",
    "          'amazon_price' : amazon_price,\n",
    "          'scrape_time' : scrape_time,\n",
    "            'target_name': target_name,\n",
    "            'target_price': target_price,\n",
    "             'walmart_name': walmart_name,\n",
    "             'walmart_price': walmart_price}, \n",
    "         columns=['amazon_name','amazon_price', 'scrape_time','target_name','target_price','walmart_name', 'walmart_price' ])    "
   ]
  },
  {
   "cell_type": "code",
   "execution_count": 15,
   "metadata": {},
   "outputs": [
    {
     "data": {
      "text/html": [
       "<div>\n",
       "<style scoped>\n",
       "    .dataframe tbody tr th:only-of-type {\n",
       "        vertical-align: middle;\n",
       "    }\n",
       "\n",
       "    .dataframe tbody tr th {\n",
       "        vertical-align: top;\n",
       "    }\n",
       "\n",
       "    .dataframe thead th {\n",
       "        text-align: right;\n",
       "    }\n",
       "</style>\n",
       "<table border=\"1\" class=\"dataframe\">\n",
       "  <thead>\n",
       "    <tr style=\"text-align: right;\">\n",
       "      <th></th>\n",
       "      <th>amazon_name</th>\n",
       "      <th>amazon_price</th>\n",
       "      <th>scrape_time</th>\n",
       "      <th>target_name</th>\n",
       "      <th>target_price</th>\n",
       "      <th>walmart_name</th>\n",
       "      <th>walmart_price</th>\n",
       "    </tr>\n",
       "  </thead>\n",
       "  <tbody>\n",
       "    <tr>\n",
       "      <th>0</th>\n",
       "      <td>Dark Souls Remastered - PlayStation 4</td>\n",
       "      <td>$19.93</td>\n",
       "      <td>2020-04-21 12:57:24.477019</td>\n",
       "      <td>no name found</td>\n",
       "      <td>no price found</td>\n",
       "      <td>Dark Souls: Remastered, Bandai/Namco, PlayStat...</td>\n",
       "      <td>$19.93</td>\n",
       "    </tr>\n",
       "    <tr>\n",
       "      <th>1</th>\n",
       "      <td>Dark Souls Remastered - Xbox One</td>\n",
       "      <td>$19.93</td>\n",
       "      <td>2020-04-21 12:58:06.352356</td>\n",
       "      <td>no name found</td>\n",
       "      <td>no price found</td>\n",
       "      <td>Dark Souls: Remastered, Bandai/Namco, Xbox One...</td>\n",
       "      <td>Free delivery on</td>\n",
       "    </tr>\n",
       "    <tr>\n",
       "      <th>2</th>\n",
       "      <td>Bloodborne Hits - PlayStation 4</td>\n",
       "      <td>$18.48</td>\n",
       "      <td>2020-04-21 12:58:45.264032</td>\n",
       "      <td>Bloodborne - PlayStation 4 (PlayStation Hits)</td>\n",
       "      <td>$16.99</td>\n",
       "      <td>Product Title</td>\n",
       "      <td>Current Price</td>\n",
       "    </tr>\n",
       "    <tr>\n",
       "      <th>3</th>\n",
       "      <td>Red Dead Redemption 2 (PS4)</td>\n",
       "      <td>$39.99</td>\n",
       "      <td>2020-04-21 12:59:26.127881</td>\n",
       "      <td>no name found</td>\n",
       "      <td>no price found</td>\n",
       "      <td>no name found</td>\n",
       "      <td>no price found</td>\n",
       "    </tr>\n",
       "    <tr>\n",
       "      <th>4</th>\n",
       "      <td>Red Dead Redemption 2 (XBox One)</td>\n",
       "      <td>$38.99</td>\n",
       "      <td>2020-04-21 13:00:05.859538</td>\n",
       "      <td>no name found</td>\n",
       "      <td>no price found</td>\n",
       "      <td>no name found</td>\n",
       "      <td>no price found</td>\n",
       "    </tr>\n",
       "    <tr>\n",
       "      <th>5</th>\n",
       "      <td>Sekiro Shadows Die Twice - PlayStation 4</td>\n",
       "      <td>no price</td>\n",
       "      <td>2020-04-21 13:00:46.768543</td>\n",
       "      <td>Sekiro: Shadows Die Twice - PlayStation 4</td>\n",
       "      <td>$37.49</td>\n",
       "      <td>Sekiro: Shadows Die Twice, Activision, PlaySta...</td>\n",
       "      <td>$43.00</td>\n",
       "    </tr>\n",
       "    <tr>\n",
       "      <th>6</th>\n",
       "      <td>Sekiro Shadows Die Twice (Xbox One)</td>\n",
       "      <td>no price</td>\n",
       "      <td>2020-04-21 13:01:27.088041</td>\n",
       "      <td>no name found</td>\n",
       "      <td>no price found</td>\n",
       "      <td>no name found</td>\n",
       "      <td>no price found</td>\n",
       "    </tr>\n",
       "    <tr>\n",
       "      <th>7</th>\n",
       "      <td>Halo 5 (Xbox One)</td>\n",
       "      <td>$21.99</td>\n",
       "      <td>2020-04-21 13:02:05.924251</td>\n",
       "      <td>no name found</td>\n",
       "      <td>no price found</td>\n",
       "      <td>halo 5 (xbox one)</td>\n",
       "      <td>$22.49</td>\n",
       "    </tr>\n",
       "    <tr>\n",
       "      <th>8</th>\n",
       "      <td>God of War Hits - PlayStation 4</td>\n",
       "      <td>$14.99</td>\n",
       "      <td>2020-04-21 13:02:45.519914</td>\n",
       "      <td>God of War - PlayStation 4 (PlayStation Hits)</td>\n",
       "      <td>$14.99</td>\n",
       "      <td>God of War ? PlayStation Hits, Sony, PlayStati...</td>\n",
       "      <td>Current Price</td>\n",
       "    </tr>\n",
       "    <tr>\n",
       "      <th>9</th>\n",
       "      <td>Uncharted 4: A Thief's End PS4</td>\n",
       "      <td>$15.34</td>\n",
       "      <td>2020-04-21 13:03:25.184871</td>\n",
       "      <td>no name found</td>\n",
       "      <td>no price found</td>\n",
       "      <td>no name found</td>\n",
       "      <td>no price found</td>\n",
       "    </tr>\n",
       "  </tbody>\n",
       "</table>\n",
       "</div>"
      ],
      "text/plain": [
       "                                amazon_name amazon_price  \\\n",
       "0     Dark Souls Remastered - PlayStation 4       $19.93   \n",
       "1          Dark Souls Remastered - Xbox One       $19.93   \n",
       "2           Bloodborne Hits - PlayStation 4       $18.48   \n",
       "3               Red Dead Redemption 2 (PS4)       $39.99   \n",
       "4          Red Dead Redemption 2 (XBox One)       $38.99   \n",
       "5  Sekiro Shadows Die Twice - PlayStation 4     no price   \n",
       "6       Sekiro Shadows Die Twice (Xbox One)     no price   \n",
       "7                         Halo 5 (Xbox One)       $21.99   \n",
       "8           God of War Hits - PlayStation 4       $14.99   \n",
       "9            Uncharted 4: A Thief's End PS4       $15.34   \n",
       "\n",
       "                  scrape_time                                    target_name  \\\n",
       "0  2020-04-21 12:57:24.477019                                  no name found   \n",
       "1  2020-04-21 12:58:06.352356                                  no name found   \n",
       "2  2020-04-21 12:58:45.264032  Bloodborne - PlayStation 4 (PlayStation Hits)   \n",
       "3  2020-04-21 12:59:26.127881                                  no name found   \n",
       "4  2020-04-21 13:00:05.859538                                  no name found   \n",
       "5  2020-04-21 13:00:46.768543      Sekiro: Shadows Die Twice - PlayStation 4   \n",
       "6  2020-04-21 13:01:27.088041                                  no name found   \n",
       "7  2020-04-21 13:02:05.924251                                  no name found   \n",
       "8  2020-04-21 13:02:45.519914  God of War - PlayStation 4 (PlayStation Hits)   \n",
       "9  2020-04-21 13:03:25.184871                                  no name found   \n",
       "\n",
       "     target_price                                       walmart_name  \\\n",
       "0  no price found  Dark Souls: Remastered, Bandai/Namco, PlayStat...   \n",
       "1  no price found  Dark Souls: Remastered, Bandai/Namco, Xbox One...   \n",
       "2          $16.99                                      Product Title   \n",
       "3  no price found                                      no name found   \n",
       "4  no price found                                      no name found   \n",
       "5          $37.49  Sekiro: Shadows Die Twice, Activision, PlaySta...   \n",
       "6  no price found                                      no name found   \n",
       "7  no price found                                  halo 5 (xbox one)   \n",
       "8          $14.99  God of War ? PlayStation Hits, Sony, PlayStati...   \n",
       "9  no price found                                      no name found   \n",
       "\n",
       "       walmart_price  \n",
       "0             $19.93  \n",
       "1  Free delivery on   \n",
       "2      Current Price  \n",
       "3     no price found  \n",
       "4     no price found  \n",
       "5             $43.00  \n",
       "6     no price found  \n",
       "7             $22.49  \n",
       "8      Current Price  \n",
       "9     no price found  "
      ]
     },
     "execution_count": 15,
     "metadata": {},
     "output_type": "execute_result"
    }
   ],
   "source": [
    "prices"
   ]
  },
  {
   "cell_type": "markdown",
   "metadata": {},
   "source": [
    "## Below is a version that scrapes the same items, but uses pooling\n",
    "\n",
    "I reran everything else in the notebook preceding this except for the previous two cells"
   ]
  },
  {
   "cell_type": "code",
   "execution_count": 27,
   "metadata": {},
   "outputs": [],
   "source": [
    "from functools import partial\n",
    "from multiprocessing.pool import Pool"
   ]
  },
  {
   "cell_type": "code",
   "execution_count": 28,
   "metadata": {},
   "outputs": [
    {
     "name": "stdout",
     "output_type": "stream",
     "text": [
      "url  0\n",
      "url  0\n",
      "url  0\n",
      "url  0\n",
      "url  1\n",
      "url  1\n",
      "url  1\n",
      "url  1\n",
      "url  0\n",
      "url  1\n",
      "Took:  177.70713114738464\n"
     ]
    }
   ],
   "source": [
    "\n",
    "st = time.time()\n",
    "#i split by 5 just to have an even split on my list of length 10\n",
    "#otherwise np.split gets angry\n",
    "urls_pool = np.split(np.array(urls), 5)\n",
    "with Pool(4) as p:\n",
    "    p.map(scraper, urls_pool)\n",
    "    \n",
    "print('Took: ', time.time()-st)"
   ]
  },
  {
   "cell_type": "code",
   "execution_count": 29,
   "metadata": {},
   "outputs": [],
   "source": [
    "prices = pd.DataFrame({'amazon_name' : amazon_name,\n",
    "          'amazon_price' : amazon_price,\n",
    "          'scrape_time' : scrape_time,\n",
    "            'target_name': target_name,\n",
    "            'target_price': target_price,\n",
    "             'walmart_name': walmart_name,\n",
    "             'walmart_price': walmart_price}, \n",
    "         columns=['amazon_name','amazon_price', 'scrape_time','target_name','target_price','walmart_name', 'walmart_price' ])    "
   ]
  },
  {
   "cell_type": "code",
   "execution_count": 31,
   "metadata": {
    "scrolled": true
   },
   "outputs": [
    {
     "data": {
      "text/html": [
       "<div>\n",
       "<style scoped>\n",
       "    .dataframe tbody tr th:only-of-type {\n",
       "        vertical-align: middle;\n",
       "    }\n",
       "\n",
       "    .dataframe tbody tr th {\n",
       "        vertical-align: top;\n",
       "    }\n",
       "\n",
       "    .dataframe thead th {\n",
       "        text-align: right;\n",
       "    }\n",
       "</style>\n",
       "<table border=\"1\" class=\"dataframe\">\n",
       "  <thead>\n",
       "    <tr style=\"text-align: right;\">\n",
       "      <th></th>\n",
       "      <th>amazon_name</th>\n",
       "      <th>amazon_price</th>\n",
       "      <th>scrape_time</th>\n",
       "      <th>target_name</th>\n",
       "      <th>target_price</th>\n",
       "      <th>walmart_name</th>\n",
       "      <th>walmart_price</th>\n",
       "    </tr>\n",
       "  </thead>\n",
       "  <tbody>\n",
       "  </tbody>\n",
       "</table>\n",
       "</div>"
      ],
      "text/plain": [
       "Empty DataFrame\n",
       "Columns: [amazon_name, amazon_price, scrape_time, target_name, target_price, walmart_name, walmart_price]\n",
       "Index: []"
      ]
     },
     "execution_count": 31,
     "metadata": {},
     "output_type": "execute_result"
    }
   ],
   "source": [
    "#unfortuntely, this df is empty because the lists were not saved properly.\n",
    "#i assume this is an issue with the parallelization of the scraper.\n",
    "#if we were send the scraped information to some global object, perhaps a file outside\n",
    "#of this jupyter notebook, i suspect that we could scrape and store all the information\n",
    "#we want very easily\n",
    "prices"
   ]
  },
  {
   "cell_type": "code",
   "execution_count": null,
   "metadata": {},
   "outputs": [],
   "source": []
  },
  {
   "cell_type": "code",
   "execution_count": null,
   "metadata": {},
   "outputs": [],
   "source": []
  },
  {
   "cell_type": "code",
   "execution_count": null,
   "metadata": {},
   "outputs": [],
   "source": []
  },
  {
   "cell_type": "code",
   "execution_count": null,
   "metadata": {},
   "outputs": [],
   "source": []
  },
  {
   "cell_type": "code",
   "execution_count": null,
   "metadata": {},
   "outputs": [],
   "source": [
    "# MAIN\n",
    "\n",
    "buyer_type = input('Are you an Informed Buyer (I) or a Window Shopper (W)? ').strip().upper()\n",
    "\n",
    "# This whole if can be converted to a function to add more URLs to the urls list\n",
    "\n",
    "if buyer_type == 'I':\n",
    "\tbasket = []\n",
    "\titem = input('Paste Amazon link of the product you want to track or press Enter key when done ')\n",
    "\twhile True:\n",
    "\t\tif item == '':\n",
    "\t\t\tbreak\n",
    "\t\telse:\t\t\n",
    "\t\t\tbasket.append(item)\n",
    "\t\t\titem = input('Paste Amazon link of the product you want to track or press Enter key when done ')\n",
    "\t# print('Your basket: ', basket)\t\n",
    "\n",
    "# \tinformed_buyer(basket)\n",
    "\n",
    "\n",
    "else:    # window shopper\n",
    "\tpass"
   ]
  },
  {
   "cell_type": "code",
   "execution_count": 91,
   "metadata": {},
   "outputs": [
    {
     "data": {
      "text/plain": [
       "{'B078Y4FR14': '722674121392',\n",
       " 'B078Y4DLC1': '722674220903',\n",
       " 'B07DNLYMV4': '711719523154',\n",
       " 'B0776YMQN1': '5026555423052',\n",
       " 'B01MAYC1CJ': '5026555358972',\n",
       " 'B07DJWBYJN': '047875882928',\n",
       " 'B07DNQD2GQ': '5030917250279',\n",
       " 'B00D781W3Q': '885370929522',\n",
       " 'B07XQKTPB2': '711719534105',\n",
       " 'B07GLGSHWN': '711719418474'}"
      ]
     },
     "execution_count": 91,
     "metadata": {},
     "output_type": "execute_result"
    }
   ],
   "source": [
    "ASIN_dict"
   ]
  },
  {
   "cell_type": "code",
   "execution_count": 77,
   "metadata": {},
   "outputs": [],
   "source": [
    "import json\n",
    "with open('result.json', 'w') as fp:\n",
    "    json.dump(ASIN_dict, fp)"
   ]
  },
  {
   "cell_type": "code",
   "execution_count": null,
   "metadata": {},
   "outputs": [],
   "source": []
  }
 ],
 "metadata": {
  "kernelspec": {
   "display_name": "Python 3",
   "language": "python",
   "name": "python3"
  },
  "language_info": {
   "codemirror_mode": {
    "name": "ipython",
    "version": 3
   },
   "file_extension": ".py",
   "mimetype": "text/x-python",
   "name": "python",
   "nbconvert_exporter": "python",
   "pygments_lexer": "ipython3",
   "version": "3.7.3"
  }
 },
 "nbformat": 4,
 "nbformat_minor": 2
}
