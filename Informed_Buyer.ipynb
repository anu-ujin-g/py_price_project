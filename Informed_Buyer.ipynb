{
 "cells": [
  {
   "cell_type": "code",
   "execution_count": 1,
   "metadata": {},
   "outputs": [],
   "source": [
    "from selenium.webdriver import Chrome\n",
    "from selenium.webdriver.chrome.options import Options\n",
    "import pandas as pd\n",
    "from selenium.webdriver.common.keys import Keys\n",
    "import numpy as np\n",
    "import time\n",
    "from datetime import datetime\n",
    "from selenium.webdriver.support.ui import WebDriverWait\n",
    "from selenium.webdriver.support import expected_conditions as EC\n",
    "from selenium.webdriver.common.by import By\n"
   ]
  },
  {
   "cell_type": "code",
   "execution_count": 2,
   "metadata": {},
   "outputs": [],
   "source": [
    "urls = ['https://www.amazon.com/Chefman-Liter-Electric-Glass-Kettle/dp/B07KYYF9HD/ref=sr_1_1?dchild=1&keywords=816458023023&qid=1586630945&sr=8-1', 'https://www.amazon.com/Instant-Vortex-One-Touch-Programs-Reheat/dp/B07VM1FT8W/ref=sr_1_1?dchild=1&keywords=857561008637&qid=1586627447&s=home-garden&sr=1-1', 'https://www.amazon.com/CeraVe-Foaming-Facial-Cleanser-Washing/dp/B01N1LL62W/ref=sr_1_5?dchild=1&keywords=cerave&qid=1586628117&s=home-garden&sr=8-5']"
   ]
  },
  {
   "cell_type": "markdown",
   "metadata": {},
   "source": [
    "questions:\n",
    "    How would items in 2 packs work?"
   ]
  },
  {
   "cell_type": "code",
   "execution_count": 3,
   "metadata": {},
   "outputs": [],
   "source": [
    "dict_test = {}"
   ]
  },
  {
   "cell_type": "code",
   "execution_count": null,
   "metadata": {},
   "outputs": [],
   "source": [
    "'''This is persistent dictionaries: write each dictionary as a file to local computer\n",
    "* Might not need this at all if final project uses jupyter notebook'''\n",
    "\n",
    "\n",
    "# ASIN_dict\n",
    "# key: ASIN, value: UPC\n",
    "try:\n",
    "\twith open('asin_dict.pickle', 'rb') as file:\n",
    "\t\tASIN_dict = pickle.load(file)\n",
    "except FileNotFoundError:\n",
    "\tASIN_dict = dict()\n",
    "\n",
    "# UPC_dict\n",
    "# key: UPC, value: product title\n",
    "try:\n",
    "\twith open('upc_dict.picle', 'rb') as file:\n",
    "\t\tUPC_dict = pickle.load(file)\n",
    "except FileNotFoundError:\n",
    "\tUPC_dict = dict()"
   ]
  },
  {
   "cell_type": "code",
   "execution_count": 4,
   "metadata": {},
   "outputs": [],
   "source": [
    "amazon_name = []\n",
    "amazon_price = []\n",
    "amazon_time = []\n",
    "target_name = []\n",
    "target_price = [] \n",
    "walmart_name = []\n",
    "walmart_price = []"
   ]
  },
  {
   "cell_type": "code",
   "execution_count": 5,
   "metadata": {},
   "outputs": [],
   "source": [
    "def scraper(urls):\n",
    "    \n",
    "    for url in urls:\n",
    "        \n",
    "        driver = Chrome(executable_path=r'C:/Users/Tinatin/Scraping/chromedriver.exe')\n",
    "        driver.get(url)\n",
    "        amazon_name.append(driver.find_element_by_xpath('//*[@id=\"productTitle\"]').text)\n",
    "        amazon_price.append(driver.find_element_by_xpath('//*[@id=\"priceblock_ourprice\"]').text)\n",
    "        amazon_time.append(str(datetime.today()))\n",
    "        asin = url.split('/')[5]\n",
    "        driver.quit()\n",
    "        if asin in dict_test:\n",
    "            upc_id = dict_test[asin]\n",
    "        # Getting UPC from ASIN\n",
    "        else:\n",
    "            upc_driver = Chrome(executable_path=r'C:/Users/Tinatin/Scraping/chromedriver.exe')\n",
    "            upc_driver.get('https://www.synccentric.com/features/upc-asin/')\n",
    "            box = upc_driver.find_element_by_id('scrollto')\n",
    "            form = box.find_element_by_class_name('form-group')\n",
    "            input = form.find_element_by_name('identifier')\n",
    "            input.send_keys(asin)\n",
    "            input.submit()\n",
    "            time.sleep(10)\n",
    "            id_list = upc_driver.find_element_by_class_name('col-sm-8').find_elements_by_tag_name('strong')\n",
    "            upc_id = id_list[1].get_attribute('innerHTML')\n",
    "            upc_driver.quit()\n",
    "\n",
    "            # Target UPC \n",
    "        target_driver = Chrome(executable_path=r'C:/Users/Tinatin/Scraping/chromedriver.exe')\n",
    "        target_url = 'https://www.target.com/s?searchTerm=' + upc_id\n",
    "        target_driver.get(target_url)\n",
    "        time.sleep(10)\n",
    "        #target_driver.find_element_by_xpath(\"//a[contains(@href, '{}')]\".format(name.split(' ')[1].lower())).click()\n",
    "        #name = target_driver.find_element_by_xpath('//*[@id=\"viewport\"]/div[4]/div/div[1]/div[2]/h1/span').text\n",
    "        #price = target_driver.find_element_by_xpath('//*[@id=\"viewport\"]/div[4]/div/div[2]/div[2]/div[1]/div[1]/div[1]').text\n",
    "        name = target_driver.find_element_by_xpath('//*[@id=\"mainContainer\"]/div[3]/div[2]/div/div[1]/div[3]/div/ul/li/div/div[2]/div/div/div/div[1]/div[1]/a').text\n",
    "        \n",
    "        if len(name) == 0:\n",
    "            target_name.append(\"no name found\")\n",
    "        else:\n",
    "            target_name.append(name)\n",
    "        price = target_driver.find_element_by_xpath('//*[@id=\"mainContainer\"]/div[3]/div[2]/div/div[1]/div[3]/div/ul/li/div/div[2]/div/div/div/div[2]/span').text\n",
    "        if len(price) == 0:\n",
    "            target_price.append(\"no price found\")\n",
    "        else:\n",
    "            target_price.append(price)\n",
    "            \n",
    "        target_driver.quit()\n",
    "        walmart_driver = Chrome(executable_path=r'C:/Users/Tinatin/Scraping/chromedriver.exe')\n",
    "        walmart_url = 'https://www.walmart.com/search/?query=' + upc_id\n",
    "        walmart_driver.get(walmart_url)\n",
    "        \n",
    "        names_prices = walmart_driver.find_elements_by_xpath(\"//div[contains(@class, 'tile-content Grid-col u-size-8-10-l list-description-wrapper')]\")\n",
    "        if len(names_prices) == 0:\n",
    "            walmart_name.append('no name found')\n",
    "            walmart_price.append('no price found')\n",
    "        else:\n",
    "            for i in names_prices:\n",
    "                if 'Pack' not in i.text:\n",
    "                    walmart_name.append(i.text.split('\\n')[1])\n",
    "                    walmart_price.append(i.text.split('\\n')[9])\n",
    "            \n",
    "                \n",
    "        walmart_driver.quit()"
   ]
  },
  {
   "cell_type": "code",
   "execution_count": 6,
   "metadata": {},
   "outputs": [],
   "source": [
    "# while True:\n",
    "#     scraper(urls)\n",
    "#     time.sleep(10)"
   ]
  },
  {
   "cell_type": "code",
   "execution_count": 7,
   "metadata": {},
   "outputs": [
    {
     "name": "stdout",
     "output_type": "stream",
     "text": [
      "1\n",
      "2\n"
     ]
    }
   ],
   "source": [
    "i = 1\n",
    "while i <3:\n",
    "    print(i)\n",
    "    scraper(urls)\n",
    "    time.sleep(10)\n",
    "    i += 1"
   ]
  },
  {
   "cell_type": "code",
   "execution_count": 8,
   "metadata": {},
   "outputs": [],
   "source": [
    "prices = pd.DataFrame({'amazon_name' : amazon_name,\n",
    "          'amazon_price' : amazon_price,\n",
    "          'amazon_time' : amazon_time,\n",
    "            'target_name': target_name,\n",
    "            'target_price': target_price,\n",
    "             'walmart_name': walmart_name,\n",
    "             'walmart_price': walmart_price}, \n",
    "         columns=['amazon_name','amazon_price', 'amazon_time','target_name','target_price','walmart_name', 'walmart_price' ])    "
   ]
  },
  {
   "cell_type": "code",
   "execution_count": 9,
   "metadata": {
    "scrolled": true
   },
   "outputs": [
    {
     "data": {
      "text/html": [
       "<div>\n",
       "<style scoped>\n",
       "    .dataframe tbody tr th:only-of-type {\n",
       "        vertical-align: middle;\n",
       "    }\n",
       "\n",
       "    .dataframe tbody tr th {\n",
       "        vertical-align: top;\n",
       "    }\n",
       "\n",
       "    .dataframe thead th {\n",
       "        text-align: right;\n",
       "    }\n",
       "</style>\n",
       "<table border=\"1\" class=\"dataframe\">\n",
       "  <thead>\n",
       "    <tr style=\"text-align: right;\">\n",
       "      <th></th>\n",
       "      <th>amazon_name</th>\n",
       "      <th>amazon_price</th>\n",
       "      <th>amazon_time</th>\n",
       "      <th>target_name</th>\n",
       "      <th>target_price</th>\n",
       "      <th>walmart_name</th>\n",
       "      <th>walmart_price</th>\n",
       "    </tr>\n",
       "  </thead>\n",
       "  <tbody>\n",
       "    <tr>\n",
       "      <th>0</th>\n",
       "      <td>Chefman 1.7 Liter Electric Glass Tea Kettle wi...</td>\n",
       "      <td>$19.99</td>\n",
       "      <td>2020-04-11 21:02:10.310191</td>\n",
       "      <td>Chefman 1.7L Glass Electric Kettle - Clear</td>\n",
       "      <td>$19.99</td>\n",
       "      <td>Chefman 1.7 Liter Electric Glass Tea Kettle wi...</td>\n",
       "      <td>$24.99</td>\n",
       "    </tr>\n",
       "    <tr>\n",
       "      <th>1</th>\n",
       "      <td>Instant Vortex 4-in-1 Air Fryer, 6 Quart, 4 On...</td>\n",
       "      <td>$99.00</td>\n",
       "      <td>2020-04-11 21:03:20.662978</td>\n",
       "      <td>Instant Pot 6qt Vortex Air Fryer</td>\n",
       "      <td>$99.99</td>\n",
       "      <td>no name found</td>\n",
       "      <td>no price found</td>\n",
       "    </tr>\n",
       "    <tr>\n",
       "      <th>2</th>\n",
       "      <td>CeraVe Foaming Facial Cleanser | 16 Fl Oz | Da...</td>\n",
       "      <td>$14.13</td>\n",
       "      <td>2020-04-11 21:04:34.692557</td>\n",
       "      <td>CeraVe Foaming Facial Cleanser for Normal to O...</td>\n",
       "      <td>$14.99</td>\n",
       "      <td>Cerave Oil Control Value Size Foaming Facial C...</td>\n",
       "      <td>$15.64</td>\n",
       "    </tr>\n",
       "    <tr>\n",
       "      <th>3</th>\n",
       "      <td>Chefman 1.7 Liter Electric Glass Tea Kettle wi...</td>\n",
       "      <td>$19.99</td>\n",
       "      <td>2020-04-11 21:05:55.926576</td>\n",
       "      <td>Chefman 1.7L Glass Electric Kettle - Clear</td>\n",
       "      <td>$19.99</td>\n",
       "      <td>Chefman 1.7 Liter Electric Glass Tea Kettle wi...</td>\n",
       "      <td>$24.99</td>\n",
       "    </tr>\n",
       "    <tr>\n",
       "      <th>4</th>\n",
       "      <td>Instant Vortex 4-in-1 Air Fryer, 6 Quart, 4 On...</td>\n",
       "      <td>$99.00</td>\n",
       "      <td>2020-04-11 21:07:20.548234</td>\n",
       "      <td>Instant Pot 6qt Vortex Air Fryer</td>\n",
       "      <td>$99.99</td>\n",
       "      <td>no name found</td>\n",
       "      <td>no price found</td>\n",
       "    </tr>\n",
       "    <tr>\n",
       "      <th>5</th>\n",
       "      <td>CeraVe Foaming Facial Cleanser | 16 Fl Oz | Da...</td>\n",
       "      <td>$14.13</td>\n",
       "      <td>2020-04-11 21:08:33.725646</td>\n",
       "      <td>CeraVe Foaming Facial Cleanser for Normal to O...</td>\n",
       "      <td>$14.99</td>\n",
       "      <td>Cerave Oil Control Value Size Foaming Facial C...</td>\n",
       "      <td>$15.64</td>\n",
       "    </tr>\n",
       "  </tbody>\n",
       "</table>\n",
       "</div>"
      ],
      "text/plain": [
       "                                         amazon_name amazon_price  \\\n",
       "0  Chefman 1.7 Liter Electric Glass Tea Kettle wi...       $19.99   \n",
       "1  Instant Vortex 4-in-1 Air Fryer, 6 Quart, 4 On...       $99.00   \n",
       "2  CeraVe Foaming Facial Cleanser | 16 Fl Oz | Da...       $14.13   \n",
       "3  Chefman 1.7 Liter Electric Glass Tea Kettle wi...       $19.99   \n",
       "4  Instant Vortex 4-in-1 Air Fryer, 6 Quart, 4 On...       $99.00   \n",
       "5  CeraVe Foaming Facial Cleanser | 16 Fl Oz | Da...       $14.13   \n",
       "\n",
       "                  amazon_time  \\\n",
       "0  2020-04-11 21:02:10.310191   \n",
       "1  2020-04-11 21:03:20.662978   \n",
       "2  2020-04-11 21:04:34.692557   \n",
       "3  2020-04-11 21:05:55.926576   \n",
       "4  2020-04-11 21:07:20.548234   \n",
       "5  2020-04-11 21:08:33.725646   \n",
       "\n",
       "                                         target_name target_price  \\\n",
       "0         Chefman 1.7L Glass Electric Kettle - Clear       $19.99   \n",
       "1                   Instant Pot 6qt Vortex Air Fryer       $99.99   \n",
       "2  CeraVe Foaming Facial Cleanser for Normal to O...       $14.99   \n",
       "3         Chefman 1.7L Glass Electric Kettle - Clear       $19.99   \n",
       "4                   Instant Pot 6qt Vortex Air Fryer       $99.99   \n",
       "5  CeraVe Foaming Facial Cleanser for Normal to O...       $14.99   \n",
       "\n",
       "                                        walmart_name   walmart_price  \n",
       "0  Chefman 1.7 Liter Electric Glass Tea Kettle wi...          $24.99  \n",
       "1                                      no name found  no price found  \n",
       "2  Cerave Oil Control Value Size Foaming Facial C...          $15.64  \n",
       "3  Chefman 1.7 Liter Electric Glass Tea Kettle wi...          $24.99  \n",
       "4                                      no name found  no price found  \n",
       "5  Cerave Oil Control Value Size Foaming Facial C...          $15.64  "
      ]
     },
     "execution_count": 9,
     "metadata": {},
     "output_type": "execute_result"
    }
   ],
   "source": [
    "prices"
   ]
  },
  {
   "cell_type": "code",
   "execution_count": null,
   "metadata": {},
   "outputs": [],
   "source": []
  },
  {
   "cell_type": "code",
   "execution_count": null,
   "metadata": {},
   "outputs": [],
   "source": []
  },
  {
   "cell_type": "code",
   "execution_count": null,
   "metadata": {},
   "outputs": [],
   "source": []
  },
  {
   "cell_type": "code",
   "execution_count": null,
   "metadata": {},
   "outputs": [],
   "source": []
  },
  {
   "cell_type": "code",
   "execution_count": 3,
   "metadata": {},
   "outputs": [
    {
     "name": "stdout",
     "output_type": "stream",
     "text": [
      "Are you an Informed Buyer (I) or a Window Shopper (W)? I\n",
      "Paste Amazon link of the product you want to track or press Enter key when done \n"
     ]
    }
   ],
   "source": [
    "# MAIN\n",
    "\n",
    "buyer_type = input('Are you an Informed Buyer (I) or a Window Shopper (W)? ').strip().upper()\n",
    "\n",
    "# This whole if can be converted to a function to add more URLs to the urls list\n",
    "\n",
    "if buyer_type == 'I':\n",
    "\tbasket = []\n",
    "\titem = input('Paste Amazon link of the product you want to track or press Enter key when done ')\n",
    "\twhile True:\n",
    "\t\tif item == '':\n",
    "\t\t\tbreak\n",
    "\t\telse:\t\t\n",
    "\t\t\tbasket.append(item)\n",
    "\t\t\titem = input('Paste Amazon link of the product you want to track or press Enter key when done ')\n",
    "\t# print('Your basket: ', basket)\t\n",
    "\n",
    "# \tinformed_buyer(basket)\n",
    "\n",
    "\n",
    "else:    # window shopper\n",
    "\tpass"
   ]
  },
  {
   "cell_type": "code",
   "execution_count": null,
   "metadata": {},
   "outputs": [],
   "source": []
  }
 ],
 "metadata": {
  "kernelspec": {
   "display_name": "Python 3",
   "language": "python",
   "name": "python3"
  },
  "language_info": {
   "codemirror_mode": {
    "name": "ipython",
    "version": 3
   },
   "file_extension": ".py",
   "mimetype": "text/x-python",
   "name": "python",
   "nbconvert_exporter": "python",
   "pygments_lexer": "ipython3",
   "version": "3.7.6"
  }
 },
 "nbformat": 4,
 "nbformat_minor": 2
}
