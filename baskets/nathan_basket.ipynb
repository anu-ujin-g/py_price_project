{
 "cells": [
  {
   "cell_type": "code",
   "execution_count": 1,
   "metadata": {},
   "outputs": [],
   "source": [
    "nathan_asins = ['B07GD7H18F', 'B07472RVJY', 'B000QSNYGI', 'B07DWSPQQY', 'B07PC5RW64', 'B0776T7372', 'B07R5QD598', 'B07SB1BMM9', 'B01AWLPUAG']"
   ]
  },
  {
   "cell_type": "code",
   "execution_count": 2,
   "metadata": {},
   "outputs": [],
   "source": [
    "my_basket = ['www.amazon.com/dp/' + i for i in nathan_asins]"
   ]
  },
  {
   "cell_type": "code",
   "execution_count": 3,
   "metadata": {},
   "outputs": [
    {
     "data": {
      "text/plain": [
       "['www.amazon.com/dp/B07GD7H18F',\n",
       " 'www.amazon.com/dp/B07472RVJY',\n",
       " 'www.amazon.com/dp/B000QSNYGI',\n",
       " 'www.amazon.com/dp/B07DWSPQQY',\n",
       " 'www.amazon.com/dp/B07PC5RW64',\n",
       " 'www.amazon.com/dp/B0776T7372',\n",
       " 'www.amazon.com/dp/B07R5QD598',\n",
       " 'www.amazon.com/dp/B07SB1BMM9',\n",
       " 'www.amazon.com/dp/B01AWLPUAG']"
      ]
     },
     "execution_count": 3,
     "metadata": {},
     "output_type": "execute_result"
    }
   ],
   "source": [
    "my_basket"
   ]
  },
  {
   "cell_type": "code",
   "execution_count": null,
   "metadata": {},
   "outputs": [],
   "source": [
    "anu_basket = ['https://www.amazon.com/LEGO-Hogwarts-Playset-Minifigures-Hermione/dp/B07QQ39RY3/ref=sr_1_2?dchild=1&keywords=harry+potter+lego&qid=1587146263&sr=8-2',\n",
    "                'https://www.amazon.com/L-L-Surprise-Independent-Multicolor/dp/B07XSNGSJN/ref=sr_1_1?crid=WYHRHSLT106F&dchild=1&keywords=miss+independent+lol+doll&qid=1587146333&sprefix=lol+doll+miss+in%2Caps%2C144&sr=8-1',\n",
    "                'https://www.amazon.com/Pampers-Swaddlers-Disposable-Diapers-SUPPLY/dp/B078J8VPVW/ref=sr_1_2_sspa?dchild=1&keywords=diapers&qid=1587146374&sr=8-2-spons&psc=1&spLa=ZW5jcnlwdGVkUXVhbGlmaWVyPUEyUTZITFRTWTBRQzlBJmVuY3J5cHRlZElkPUEwNzY4Nzc5M1I3MTBCS0tKUUgzMyZlbmNyeXB0ZWRBZElkPUEwOTQyNzQ3MTM4QlRKSlRCTjE2UyZ3aWRnZXROYW1lPXNwX2F0ZiZhY3Rpb249Y2xpY2tSZWRpcmVjdCZkb05vdExvZ0NsaWNrPXRydWU=',\n",
    "                'https://www.amazon.com/Contigo-AUTOSEAL-Vaccuum-Insulated-Stainless-Travel/dp/B073WB5DG9/ref=sxin_7_ac_d_pm?ac_md=1-0-VW5kZXIgJDIw-ac_d_pm&crid=2BA14W4ZRQSPN&cv_ct_cx=contigo+coffee+travel+mug&dchild=1&keywords=contigo+coffee+travel+mug&pd_rd_i=B073WB5DG9&pd_rd_r=5959d882-8141-4be9-b9dc-71226ca28e3a&pd_rd_w=AnWDa&pd_rd_wg=NnP8k&pf_rd_p=d268c452-dec7-459f-93b2-f5478382989a&pf_rd_r=9Y573XKJB3J71A4M5856&psc=1&qid=1587146402&sprefix=contigo+coffe%2Caps%2C143&sr=1-1-22d05c05-1231-4126-b7c4-3e7a9c0027d0',\n",
    "                'https://www.amazon.com/ASUS-Advanced-Overclocked-DisplayPort-ROG-STRIX-RTX-2070S-A8G-GAMING/dp/B07TXRW3HX/ref=sr_1_1?crid=5PRSMD5P34Q6&dchild=1&keywords=gpu+rtx+2070+super&qid=1587146635&sprefix=gpu+rtx+2070+su%2Caps%2C141&sr=8-1',\n",
    "                'https://www.amazon.com/Apple-AirPods-Charging-Latest-Model/dp/B07PXGQC1Q/ref=sr_1_1_sspa?dchild=1&keywords=airpods&qid=1587145709&sr=8-1-spons&psc=1&spLa=ZW5jcnlwdGVkUXVhbGlmaWVyPUFKNVk3TE05VjBFNEkmZW5jcnlwdGVkSWQ9QTAyNTY0NjUxOU9KM1c2QkJBVUwzJmVuY3J5cHRlZEFkSWQ9QTEwMDQ4NzBEQkJVSkxXUVYyT0wmd2lkZ2V0TmFtZT1zcF9hdGYmYWN0aW9uPWNsaWNrUmVkaXJlY3QmZG9Ob3RMb2dDbGljaz10cnVl',\n",
    "                'https://www.amazon.com/Oral-Glide-Floss-Picks-Outlast/dp/B002P8FE8S/ref=sr_1_10?dchild=1&keywords=tooth+floss+stick+oral+b&qid=1587145922&sr=8-10']"
   ]
  },
  {
   "cell_type": "code",
   "execution_count": null,
   "metadata": {},
   "outputs": [],
   "source": [
    "paula_basket = ['https://www.amazon.com/Mattel-Original-Playing-Card-Game/dp/B00GTJSGXE/ref=sr_1_3?dchild=1&keywords=uno+cards&qid=1585934632&sr=8-3',\n",
    "               'https://www.amazon.com/KitchenAid-Nylon-Short-Turner-Black/dp/B005D6FX3K/ref=pd_ybh_a_20?_encoding=UTF8&psc=1&refRID=FES6GM5ZD9F80DQATVSW',\n",
    "               'https://www.amazon.com/Breville-JE98XL-Fountain-850-Watt-Extractor/dp/B003R28HWQ/ref=sr_1_4?dchild=1&keywords=juicer&qid=1587149552&sr=8-4',\n",
    "               'https://www.amazon.com/BIC-Multi-purpose-Candle-Lighter-2-Pack/dp/B0771TSBJ3/ref=psdc_10342354011_t2_B006SM2G1U',\n",
    "               'https://www.amazon.com/PlayStation-4-Pro-1TB-Console/dp/B01LOP8EZC/ref=sr_1_7?crid=SL8TZWP4I7NB&dchild=1&keywords=play+station4+console&qid=1587150160&sprefix=play+stat%2Caps%2C146&sr=8-7',\n",
    "               'https://www.amazon.com/Breville-BOV450XL-Mini-Smart-Element/dp/B006CVVA7I/ref=sr_1_18?dchild=1&keywords=oven&qid=1587150383&sr=8-18',\n",
    "               'https://www.amazon.com/Bose-SoundLink-around-ear-wireless-headphones/dp/B0117RGG8E/ref=sr_1_5?dchild=1&keywords=bose+headphones&qid=1587150539&s=electronics&sr=1-5']"
   ]
  },
  {
   "cell_type": "code",
   "execution_count": 1,
   "metadata": {},
   "outputs": [],
   "source": [
    "khasi_basket = [\n",
    "    'https://www.amazon.com/Instant-Vortex-Plus-Rotisserie-10/dp/B07VM28XTR/',\n",
    "    'https://www.amazon.com/Babolat-Boost-Strike-Tennis-Racquet/dp/B072F2H4D2/',\n",
    "    'https://www.amazon.com/XQXA-Cleaners-New-Baseball-Protector-Machine%EF%BC%8CBlack/dp/B07QXXPPX4/',\n",
    "    'https://www.amazon.com/Nintendo-Switch-Neon-Blue-Joy%E2%80%91/dp/B07VGRJDFY/',\n",
    "    'https://www.amazon.com/Nite-Ize-Flashflight-Light-Flying/dp/B0001WP232/',\n",
    "    'https://www.amazon.com/Infrared-Forehead-Thermometer-Non-Contact-Immediately/dp/B086RPXZP8/'\n",
    "]"
   ]
  },
  {
   "cell_type": "code",
   "execution_count": null,
   "metadata": {},
   "outputs": [],
   "source": []
  }
 ],
 "metadata": {
  "kernelspec": {
   "display_name": "Python 3",
   "language": "python",
   "name": "python3"
  },
  "language_info": {
   "codemirror_mode": {
    "name": "ipython",
    "version": 3
   },
   "file_extension": ".py",
   "mimetype": "text/x-python",
   "name": "python",
   "nbconvert_exporter": "python",
   "pygments_lexer": "ipython3",
   "version": "3.7.3"
  }
 },
 "nbformat": 4,
 "nbformat_minor": 4
}
