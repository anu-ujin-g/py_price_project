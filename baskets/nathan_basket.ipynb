{
 "cells": [
  {
   "cell_type": "code",
   "execution_count": 1,
   "metadata": {},
   "outputs": [],
   "source": [
    "nathan_asins = ['B07GD7H18F', 'B07472RVJY', 'B000QSNYGI', 'B07DWSPQQY', 'B07PC5RW64', 'B0776T7372', 'B07R5QD598', 'B07SB1BMM9', 'B01AWLPUAG']"
   ]
  },
  {
   "cell_type": "code",
   "execution_count": 2,
   "metadata": {},
   "outputs": [],
   "source": [
    "my_basket = ['www.amazon.com/dp/' + i for i in nathan_asins]"
   ]
  },
  {
   "cell_type": "code",
   "execution_count": 3,
   "metadata": {},
   "outputs": [
    {
     "data": {
      "text/plain": [
       "['www.amazon.com/dp/B07GD7H18F',\n",
       " 'www.amazon.com/dp/B07472RVJY',\n",
       " 'www.amazon.com/dp/B000QSNYGI',\n",
       " 'www.amazon.com/dp/B07DWSPQQY',\n",
       " 'www.amazon.com/dp/B07PC5RW64',\n",
       " 'www.amazon.com/dp/B0776T7372',\n",
       " 'www.amazon.com/dp/B07R5QD598',\n",
       " 'www.amazon.com/dp/B07SB1BMM9',\n",
       " 'www.amazon.com/dp/B01AWLPUAG']"
      ]
     },
     "execution_count": 3,
     "metadata": {},
     "output_type": "execute_result"
    }
   ],
   "source": [
    "my_basket"
   ]
  },
  {
   "cell_type": "code",
   "execution_count": null,
   "metadata": {},
   "outputs": [],
   "source": []
  }
 ],
 "metadata": {
  "kernelspec": {
   "display_name": "Python 3",
   "language": "python",
   "name": "python3"
  },
  "language_info": {
   "codemirror_mode": {
    "name": "ipython",
    "version": 3
   },
   "file_extension": ".py",
   "mimetype": "text/x-python",
   "name": "python",
   "nbconvert_exporter": "python",
   "pygments_lexer": "ipython3",
   "version": "3.7.4"
  }
 },
 "nbformat": 4,
 "nbformat_minor": 2
}
