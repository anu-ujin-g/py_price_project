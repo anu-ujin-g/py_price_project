{
 "cells": [
  {
   "cell_type": "code",
   "execution_count": 1,
   "metadata": {},
   "outputs": [],
   "source": [
    "nathan_asins = ['B07GD7H18F', 'B07472RVJY', 'B000QSNYGI', 'B07DWSPQQY', 'B07PC5RW64', 'B0776T7372', 'B07R5QD598', 'B07SB1BMM9', 'B01AWLPUAG']"
   ]
  },
  {
   "cell_type": "code",
   "execution_count": 2,
   "metadata": {},
   "outputs": [],
   "source": [
    "my_basket = ['www.amazon.com/dp/' + i for i in nathan_asins]"
   ]
  },
  {
   "cell_type": "code",
   "execution_count": 3,
   "metadata": {},
   "outputs": [
    {
     "data": {
      "text/plain": [
       "['www.amazon.com/dp/B07GD7H18F',\n",
       " 'www.amazon.com/dp/B07472RVJY',\n",
       " 'www.amazon.com/dp/B000QSNYGI',\n",
       " 'www.amazon.com/dp/B07DWSPQQY',\n",
       " 'www.amazon.com/dp/B07PC5RW64',\n",
       " 'www.amazon.com/dp/B0776T7372',\n",
       " 'www.amazon.com/dp/B07R5QD598',\n",
       " 'www.amazon.com/dp/B07SB1BMM9',\n",
       " 'www.amazon.com/dp/B01AWLPUAG']"
      ]
     },
     "execution_count": 3,
     "metadata": {},
     "output_type": "execute_result"
    }
   ],
   "source": [
    "my_basket"
   ]
  },
  {
   "cell_type": "code",
   "execution_count": null,
   "metadata": {},
   "outputs": [],
   "source": [
    "anu_basket = ['https://www.amazon.com/LEGO-Hogwarts-Playset-Minifigures-Hermione/dp/B07QQ39RY3/ref=sr_1_2?dchild=1&keywords=harry+potter+lego&qid=1587146263&sr=8-2',\n",
    "                'https://www.amazon.com/L-L-Surprise-Independent-Multicolor/dp/B07XSNGSJN/ref=sr_1_1?crid=WYHRHSLT106F&dchild=1&keywords=miss+independent+lol+doll&qid=1587146333&sprefix=lol+doll+miss+in%2Caps%2C144&sr=8-1',\n",
    "                'https://www.amazon.com/Pampers-Swaddlers-Disposable-Diapers-SUPPLY/dp/B078J8VPVW/ref=sr_1_2_sspa?dchild=1&keywords=diapers&qid=1587146374&sr=8-2-spons&psc=1&spLa=ZW5jcnlwdGVkUXVhbGlmaWVyPUEyUTZITFRTWTBRQzlBJmVuY3J5cHRlZElkPUEwNzY4Nzc5M1I3MTBCS0tKUUgzMyZlbmNyeXB0ZWRBZElkPUEwOTQyNzQ3MTM4QlRKSlRCTjE2UyZ3aWRnZXROYW1lPXNwX2F0ZiZhY3Rpb249Y2xpY2tSZWRpcmVjdCZkb05vdExvZ0NsaWNrPXRydWU=',\n",
    "                'https://www.amazon.com/Contigo-AUTOSEAL-Vaccuum-Insulated-Stainless-Travel/dp/B073WB5DG9/ref=sxin_7_ac_d_pm?ac_md=1-0-VW5kZXIgJDIw-ac_d_pm&crid=2BA14W4ZRQSPN&cv_ct_cx=contigo+coffee+travel+mug&dchild=1&keywords=contigo+coffee+travel+mug&pd_rd_i=B073WB5DG9&pd_rd_r=5959d882-8141-4be9-b9dc-71226ca28e3a&pd_rd_w=AnWDa&pd_rd_wg=NnP8k&pf_rd_p=d268c452-dec7-459f-93b2-f5478382989a&pf_rd_r=9Y573XKJB3J71A4M5856&psc=1&qid=1587146402&sprefix=contigo+coffe%2Caps%2C143&sr=1-1-22d05c05-1231-4126-b7c4-3e7a9c0027d0',\n",
    "                'https://www.amazon.com/ASUS-Advanced-Overclocked-DisplayPort-ROG-STRIX-RTX-2070S-A8G-GAMING/dp/B07TXRW3HX/ref=sr_1_1?crid=5PRSMD5P34Q6&dchild=1&keywords=gpu+rtx+2070+super&qid=1587146635&sprefix=gpu+rtx+2070+su%2Caps%2C141&sr=8-1',\n",
    "                'https://www.amazon.com/Apple-AirPods-Charging-Latest-Model/dp/B07PXGQC1Q/ref=sr_1_1_sspa?dchild=1&keywords=airpods&qid=1587145709&sr=8-1-spons&psc=1&spLa=ZW5jcnlwdGVkUXVhbGlmaWVyPUFKNVk3TE05VjBFNEkmZW5jcnlwdGVkSWQ9QTAyNTY0NjUxOU9KM1c2QkJBVUwzJmVuY3J5cHRlZEFkSWQ9QTEwMDQ4NzBEQkJVSkxXUVYyT0wmd2lkZ2V0TmFtZT1zcF9hdGYmYWN0aW9uPWNsaWNrUmVkaXJlY3QmZG9Ob3RMb2dDbGljaz10cnVl',\n",
    "                'https://www.amazon.com/Oral-Glide-Floss-Picks-Outlast/dp/B002P8FE8S/ref=sr_1_10?dchild=1&keywords=tooth+floss+stick+oral+b&qid=1587145922&sr=8-10']"
   ]
  },
  {
   "cell_type": "code",
   "execution_count": null,
   "metadata": {},
   "outputs": [],
   "source": [
    "paula_basket = ['https://www.amazon.com/Mattel-Original-Playing-Card-Game/dp/B00GTJSGXE/ref=sr_1_3?dchild=1&keywords=uno+cards&qid=1585934632&sr=8-3',\n",
    "                'https://www.amazon.com/Bose-Cancelling-Wireless-Bluetooth-Headphones/dp/B07Q9MJKBV/ref=sr_1_1?dchild=1&keywords=017817796163&qid=1587169795&sr=8-1',\n",
    "                'https://www.amazon.com/KitchenAid-Professional-Plus-Stand-Mixers/dp/B01540SKTI/ref=sr_1_1?dchild=1&keywords=883049385891&qid=1587170287&sr=8-1',\n",
    "                'https://www.amazon.com/Nespresso-VertuoPlus-Espresso-DeLonghi-Limited/dp/B07GBJQ38K/ref=sr_1_1?dchild=1&keywords=044387041508&qid=1587170467&sr=8-1',\n",
    "                'https://www.amazon.com/Ninja-Professional-Kitchen-System-BL685/dp/B019EQ1YS2/ref=sr_1_1?dchild=1&keywords=622356539968&qid=1587170764&sr=8-1',\n",
    "                'https://www.amazon.com/Anova-Culinary-AN500-US00-Precision-Included/dp/B07WQ4M5TS/ref=sr_1_1?dchild=1&keywords=851607006601&qid=1587170900&sr=8-1',\n",
    "                'https://www.amazon.com/Exerpeutic-Capacity-Fitness-Electric-Treadmill/dp/B003X5J1S6/ref=sr_1_1?dchild=1&keywords=890598010204&qid=1587171327&sr=8-1',\n",
    "                'https://www.amazon.com/Fitbit-Inspire-Fitness-Tracker-included/dp/B07MSYTQNM/ref=sr_1_1?dchild=1&keywords=811138033262&qid=1587171414&sr=8-1',\n",
    "                'https://www.amazon.com/Swagtron-SWAGCYCLE-Electric-Automatic-Headlight/dp/B07876KNY9/ref=sr_1_1?dchild=1&keywords=858212006712&qid=1587171578&sr=8-1'\n",
    "               ]"
   ]
  },
  {
   "cell_type": "code",
   "execution_count": 1,
   "metadata": {},
   "outputs": [],
   "source": [
    "khasi_basket = [\n",
    "    'https://www.amazon.com/Instant-Vortex-Plus-Rotisserie-10/dp/B07VM28XTR/',\n",
    "    'https://www.amazon.com/Babolat-Boost-Strike-Tennis-Racquet/dp/B072F2H4D2/',\n",
    "    'https://www.amazon.com/XQXA-Cleaners-New-Baseball-Protector-Machine%EF%BC%8CBlack/dp/B07QXXPPX4/',\n",
    "    'https://www.amazon.com/Nintendo-Switch-Neon-Blue-Joy%E2%80%91/dp/B07VGRJDFY/',\n",
    "    'https://www.amazon.com/Nite-Ize-Flashflight-Light-Flying/dp/B0001WP232/',\n",
    "    'https://www.amazon.com/Infrared-Forehead-Thermometer-Non-Contact-Immediately/dp/B086RPXZP8/'\n",
    "]"
   ]
  },
  {
   "cell_type": "code",
   "execution_count": null,
   "metadata": {},
   "outputs": [],
   "source": [
    "tiko_basket = ['https://www.amazon.com/Bose-QuietComfort-Bluetooth-Headphones-Noise-Cancelling/dp/B07NXDPLJ9/ref=lp_509318_1_9?s=aht&ie=UTF8&qid=1587059636&sr=1-9',\n",
    "        'https://www.amazon.com/KitchenAid-KSM75SL-Classic-4-5-Qt-Tilt-Head/dp/B00BU27HYO/ref=sr_1_1?dchild=1&keywords=883049275215&qid=1587398970&sr=8-1',\n",
    "        'https://www.amazon.com/Revlon-One-Step-Dryer-Volumizer-Brush/dp/B01LSUQSB0/ref=sr_1_39?crid=31U6B72ZZNX82&dchild=1&keywords=hair+straightener&qid=1587399099&sprefix=hair+strag%2Caps%2C168&sr=8-39',\n",
    "        'https://www.amazon.com/GoPro-HERO7-Silver-Waterproof-Digital/dp/B07GDGZCCJ/ref=sr_1_11?dchild=1&keywords=818279023213&qid=1587399244&sr=8-11',\n",
    "        'https://www.amazon.com/Nikon-DX-Format-Digital-18-55mm-3-5-5-6G/dp/B01N4KCC2M/ref=sr_1_1?dchild=1&keywords=018208015764&qid=1587399360&sr=8-1',\n",
    "        'https://www.amazon.com/Fjallraven-Classic-Backpack-Everyday-Graphite/dp/B003NF25K2/ref=sr_1_21?dchild=1&keywords=backpack&qid=1587058843&s=apparel&sr=1-21',\n",
    "        'https://www.amazon.com/Philips-328E9QJAB-Frameless-FreeSync-DisplayPort/dp/B07KQXJLF7/ref=sxin_3_ac_d_pm?ac_md=5-2-QWJvdmUgJDE1MA%3D%3D-ac_d_pm&cv_ct_cx=computer+monitor&dchild=1&keywords=computer+monitor&pd_rd_i=B07KQXJLF7&pd_rd_r=d344a2d7-a4d6-49f2-be6f-458ce3284109&pd_rd_w=R0Ywb&pd_rd_wg=46Pcg&pf_rd_p=d268c452-dec7-459f-93b2-f5478382989a&pf_rd_r=0Q9VBB1Z9SY6HYGY8TQ1&psc=1&qid=1587058964&s=home-garden&sr=1-3-22d05c05-1231-4126-b7c4-3e7a9c0027d0',\n",
    "        'https://www.amazon.com/Chefman-Liter-Electric-Glass-Kettle/dp/B07KYYF9HD/ref=sr_1_1?dchild=1&keywords=816458023023&qid=1586630945&sr=8-1', \n",
    "        'https://www.amazon.com/Instant-Vortex-One-Touch-Programs-Reheat/dp/B07VM1FT8W/ref=sr_1_1?dchild=1&keywords=857561008637&qid=1586627447&s=home-garden&sr=1-1', \n",
    "        'https://www.amazon.com/CeraVe-Foaming-Facial-Cleanser-Washing/dp/B01N1LL62W/ref=sr_1_5?dchild=1&keywords=cerave&qid=1586628117&s=home-garden&sr=8-5']"
   ]
  }
 ],
 "metadata": {
  "kernelspec": {
   "display_name": "Python 3",
   "language": "python",
   "name": "python3"
  },
  "language_info": {
   "codemirror_mode": {
    "name": "ipython",
    "version": 3
   },
   "file_extension": ".py",
   "mimetype": "text/x-python",
   "name": "python",
   "nbconvert_exporter": "python",
   "pygments_lexer": "ipython3",
   "version": "3.7.3"
  }
 },
 "nbformat": 4,
 "nbformat_minor": 4
}
