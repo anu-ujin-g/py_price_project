{
 "cells": [
  {
   "cell_type": "code",
   "execution_count": null,
   "metadata": {},
   "outputs": [],
   "source": [
    "paula_basket = ['https://www.amazon.com/Mattel-Original-Playing-Card-Game/dp/B00GTJSGXE/ref=sr_1_3?dchild=1&keywords=uno+cards&qid=1585934632&sr=8-3',\n",
    "               'https://www.amazon.com/KitchenAid-Nylon-Short-Turner-Black/dp/B005D6FX3K/ref=pd_ybh_a_20?_encoding=UTF8&psc=1&refRID=FES6GM5ZD9F80DQATVSW',\n",
    "               'https://www.amazon.com/Breville-JE98XL-Fountain-850-Watt-Extractor/dp/B003R28HWQ/ref=sr_1_4?dchild=1&keywords=juicer&qid=1587149552&sr=8-4',\n",
    "               'https://www.amazon.com/BIC-Multi-purpose-Candle-Lighter-2-Pack/dp/B0771TSBJ3/ref=psdc_10342354011_t2_B006SM2G1U',\n",
    "               'https://www.amazon.com/PlayStation-4-Pro-1TB-Console/dp/B01LOP8EZC/ref=sr_1_7?crid=SL8TZWP4I7NB&dchild=1&keywords=play+station4+console&qid=1587150160&sprefix=play+stat%2Caps%2C146&sr=8-7',\n",
    "               'https://www.amazon.com/Breville-BOV450XL-Mini-Smart-Element/dp/B006CVVA7I/ref=sr_1_18?dchild=1&keywords=oven&qid=1587150383&sr=8-18',\n",
    "               'https://www.amazon.com/Bose-SoundLink-around-ear-wireless-headphones/dp/B0117RGG8E/ref=sr_1_5?dchild=1&keywords=bose+headphones&qid=1587150539&s=electronics&sr=1-5']"
   ]
  },
  {
   "cell_type": "code",
   "execution_count": null,
   "metadata": {},
   "outputs": [],
   "source": [
    "# upc (just in case the converter website in wait)\n",
    "paula_upc = ['078206020016', '885657119707', '778295032074', '070330646698', '711719513605', 'B006CVVA7I', '667562970075']"
   ]
  }
 ],
 "metadata": {
  "kernelspec": {
   "display_name": "Python 3",
   "language": "python",
   "name": "python3"
  },
  "language_info": {
   "codemirror_mode": {
    "name": "ipython",
    "version": 3
   },
   "file_extension": ".py",
   "mimetype": "text/x-python",
   "name": "python",
   "nbconvert_exporter": "python",
   "pygments_lexer": "ipython3",
   "version": "3.7.4"
  }
 },
 "nbformat": 4,
 "nbformat_minor": 4
}
